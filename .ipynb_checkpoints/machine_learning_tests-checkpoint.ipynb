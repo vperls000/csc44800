{
 "cells": [
  {
   "cell_type": "markdown",
   "metadata": {
    "id": "gZT0PBpf9h5i"
   },
   "source": [
    "[!image]"
   ]
  },
  {
   "cell_type": "code",
   "execution_count": 97,
   "metadata": {
    "id": "Hg-zwktL9h5m"
   },
   "outputs": [],
   "source": [
    "import numpy as np\n",
    "import matplotlib.pyplot as plt \n",
    "from mpl_toolkits import mplot3d\n",
    "from sklearn import datasets\n",
    "from sklearn.linear_model import Perceptron\n",
    "from sklearn.linear_model import SGDClassifier"
   ]
  },
  {
   "cell_type": "code",
   "execution_count": 98,
   "metadata": {
    "id": "iZBG89479h5o",
    "scrolled": false
   },
   "outputs": [],
   "source": [
    "# import the Iris data set\n",
    "\n",
    "iris = datasets.load_iris()\n",
    "X = iris.data\n",
    "Y = iris.target\n",
    "Xzeros0 = (0. * X) + .2\n",
    "Xzeros1 = (0. * X) \n",
    "Xzeros2 = (0. * X) - .2\n",
    "x_min, x_max = X.min() - 0.5, X.max() + 1.5"
   ]
  },
  {
   "cell_type": "code",
   "execution_count": 99,
   "metadata": {
    "colab": {
     "base_uri": "https://localhost:8080/"
    },
    "id": "bBvY5KTp9h5s",
    "outputId": "23df175a-63a9-409f-8bc8-34fce896d376"
   },
   "outputs": [
    {
     "name": "stdout",
     "output_type": "stream",
     "text": [
      "0 o Setosa red pink\n",
      "1 x Versicolor blue lightblue\n",
      "2 * Virginica green lightgreen\n"
     ]
    }
   ],
   "source": [
    "# get Iris classifications\n",
    "\n",
    "IC = np.unique(Y)\n",
    "IrisC = ('Setosa','Versicolor','Virginica')\n",
    "pltC = ('red', 'blue', 'green')\n",
    "pltCback = ('pink', 'lightblue','lightgreen')\n",
    "pltM = ('o', 'x', '*')\n",
    "for i in range(0,3):\n",
    "    print (IC[i],pltM[i],IrisC[i],pltC[i],pltCback[i])\n",
    "          "
   ]
  },
  {
   "cell_type": "code",
   "execution_count": 100,
   "metadata": {
    "id": "KS0xBmth9h5u"
   },
   "outputs": [],
   "source": [
    "# setup Iris feature lablels\n",
    "\n",
    "IrisF=(\"sepal length (cm)\", \"sepal width (cm)\", \"petal length (cm)\", \"petal width (cm)\")"
   ]
  },
  {
   "cell_type": "code",
   "execution_count": 101,
   "metadata": {
    "id": "wtva3-bGEAZQ"
   },
   "outputs": [],
   "source": [
    "# The code within this function is largely taken from code by Erik Grimmelmann, but I used\n",
    "# a function instead of recompiling the original cells because I hard-coded all of the 60\n",
    "# dataset-model pairs.  This function will allow me to build the XX and YY arrays, fit the\n",
    "# data, and possibly plot the data as I run through each dataset-model pair.  In\n",
    "# addition, I do not have much experience with python or sklearn, so Kareem helped me to\n",
    "# understand this code so I could make this function run smoothly.\n",
    "\n",
    "def buildAndFit(cdx, fdx, nC, nF, lfn, plot = False):\n",
    "  i = 0\n",
    "  numY = 0\n",
    "  for i in range(len(Y)):\n",
    "      for j in range(nC):\n",
    "          if Y[i] == IC[cdx[j]]:\n",
    "              numY += 1\n",
    "\n",
    "  YY = np.zeros((numY))\n",
    "  XX = np.zeros((numY,nF))\n",
    "  if (len(fdx) == 1):\n",
    "      XXzeros0 = (0. * XX) + .2\n",
    "      XXzeros1 = (0. * XX) \n",
    "      XXzeros2 = (0. * XX) - .2\n",
    "\n",
    "  j = 0\n",
    "  for i in range(len(Y)):\n",
    "      for k in range(nC):\n",
    "          if Y[i] == IC[cdx[k]]:        \n",
    "              YY[j] = IC[cdx[k]]\n",
    "              for m in range(nF):\n",
    "                  XX[j,m] = X[i,fdx[m]] \n",
    "              j += 1\n",
    "\n",
    "  lossfn = ['hinge','perceptron','log','modified_huber']\n",
    "\n",
    "  clf = SGDClassifier(lossfn[lfn],tol=1e-4, random_state=0)\n",
    "  #clf = SGDClassifier(tol=1e-4, random_state=0)\n",
    "  clf.fit(XX,YY)\n",
    "\n",
    "  print('\\nLoss Function: ', lossfn[lfn], '\\nScore: ',clf.score(XX,YY))\n",
    "\n",
    "  if plot:\n",
    "    ## plot data for this pair of features and classes\n",
    "    plt.close('all')\n",
    "\n",
    "    if (nF == 1):\n",
    "        \n",
    "        fig, ax = plt.subplots(figsize=(8,2))\n",
    "        \n",
    "        xx = np.arange(x_min,x_max, 0.05).reshape((-1,1))\n",
    "        yy = clf.predict(xx)\n",
    "        \n",
    "        xxzeros1 = (0. * xx) + .5\n",
    "\n",
    "    # plot the decision regions\n",
    "\n",
    "        if (IC[0] in cdx): ax.scatter(xx[yy == IC[0],0], xxzeros1[yy == IC[0]],\n",
    "                        color=pltC[0], marker='.')\n",
    "        if (IC[1] in cdx): ax.scatter(xx[yy == IC[1],0], xxzeros1[yy == IC[1]],\n",
    "                        color=pltC[1], marker='.')\n",
    "        if (IC[2] in cdx): ax.scatter(xx[yy == IC[2],0], xxzeros1[yy == IC[2]],\n",
    "                        color=pltC[2], marker='.')   \n",
    "\n",
    "    # plot the data\n",
    "\n",
    "        if (IC[0] in cdx): ax.scatter(XX[YY == IC[0],0], XXzeros0[YY == IC[0]],\n",
    "                        color=pltC[0], marker=pltM[0], label=IrisC[0])\n",
    "        if (IC[1] in cdx): ax.scatter(XX[YY == IC[1],0], XXzeros1[YY == IC[1]],\n",
    "                        color=pltC[1], marker=pltM[1], label=IrisC[1])\n",
    "        if (IC[2] in cdx): ax.scatter(XX[YY == IC[2],0], XXzeros2[YY == IC[2]],\n",
    "                        color=pltC[2], marker=pltM[2], label=IrisC[2])    \n",
    "        \n",
    "        ax.set_xlim(x_min,x_max)\n",
    "        ax.set_ylim(-1.,+2.)\n",
    "        ax.set_xlabel(IrisF[fdx[0]])\n",
    "        ax.axes.yaxis.set_visible(False)\n",
    "        ax.legend(loc='upper right', fontsize='x-small')\n",
    "        plt.show()    \n",
    "\n",
    "    elif (nF == 2):\n",
    "        \n",
    "        fig, ax = plt.subplots(figsize=(8,8))\n",
    "\n",
    "        xx1, xx2 = np.meshgrid(np.arange(x_min,x_max,0.05), np.arange(x_min,x_max,0.05))                     \n",
    "        yy = clf.predict(np.c_[xx1.ravel(), xx2.ravel()])\n",
    "        yy = yy.reshape(xx1.shape)\n",
    "\n",
    "    # plot the decision regions    \n",
    "        \n",
    "        if (IC[0] in cdx): ax.scatter(xx1[yy == IC[0]], xx2[yy == IC[0]],\n",
    "                        color=pltCback[0], marker='.')\n",
    "        if (IC[1] in cdx): ax.scatter(xx1[yy == IC[1]], xx2[yy == IC[1]], \n",
    "                        color=pltCback[1], marker='.')\n",
    "        if (IC[2] in cdx): ax.scatter(xx1[yy == IC[2]], xx2[yy == IC[2]],\n",
    "                        color=pltCback[2], marker='.')    \n",
    "\n",
    "    elif (nF == 3):\n",
    "          \n",
    "      ixm = fdx[0]\n",
    "      iym = fdx[1]\n",
    "      izm = fdx[2]\n",
    "      xF = IrisF[ixm]\n",
    "      yF = IrisF[iym]\n",
    "      zF = IrisF[izm]\n",
    "\n",
    "      fig = plt.figure(figsize=(6,6))    \n",
    "      ax = plt.axes(projection='3d')   \n",
    "\n",
    "  # plot the data points\n",
    "\n",
    "      if (IC[0] in cdx): ax.scatter3D(X[Y == IC[0],ixm], X[Y == IC[0],iym], X[Y == IC[0],izm], \n",
    "          color=pltC[0], marker=pltM[0], label=IrisC[0])\n",
    "      if (IC[1] in cdx): ax.scatter3D(X[Y == IC[1],ixm], X[Y == IC[1],iym], X[Y == IC[1],izm], \n",
    "          color=pltC[1], marker=pltM[1], label=IrisC[1])\n",
    "      if (IC[2] in cdx): ax.scatter3D(X[Y == IC[2],ixm], X[Y == IC[2],iym], X[Y == IC[2],izm], \n",
    "          color=pltC[2], marker=pltM[2], label=IrisC[2])    \n",
    "\n",
    "      ax.set_xlim(x_min,x_max)\n",
    "      ax.set_ylim(x_min,x_max)\n",
    "      ax.set_zlim(x_min,x_max)\n",
    "      ax.set_xlabel(xF)\n",
    "      ax.set_ylabel(yF)\n",
    "      ax.set_zlabel(zF)            \n",
    "      ax.legend(loc='upper right', fontsize='small')\n",
    "      plt.show() \n",
    "      \n",
    "  # if there are two classes, add the decision boundary and plot again\n",
    "              \n",
    "      A = clf.fit(XX,YY)\n",
    "      Acl =  A.classes_\n",
    "      if (len(Acl) == 2):  \n",
    "          \n",
    "          fig = plt.figure(figsize=(6,6))    \n",
    "          ax = plt.axes(projection='3d')   \n",
    "\n",
    "      # plot the data points\n",
    "\n",
    "          if (IC[0] in cdx): ax.scatter3D(X[Y == IC[0],ixm], X[Y == IC[0],iym], X[Y == IC[0],izm], \n",
    "              color=pltC[0], marker=pltM[0], label=IrisC[0])\n",
    "          if (IC[1] in cdx): ax.scatter3D(X[Y == IC[1],ixm], X[Y == IC[1],iym], X[Y == IC[1],izm], \n",
    "              color=pltC[1], marker=pltM[1], label=IrisC[1])\n",
    "          if (IC[2] in cdx): ax.scatter3D(X[Y == IC[2],ixm], X[Y == IC[2],iym], X[Y == IC[2],izm], \n",
    "              color=pltC[2], marker=pltM[2], label=IrisC[2])    \n",
    "\n",
    "        \n",
    "          Ai = A.intercept_\n",
    "          Acoef = A.coef_\n",
    "          xgrid = np.arange(x_min,x_max,0.05)       \n",
    "          nx = len(xgrid)\n",
    "          for i in range(nx):\n",
    "              for j in range(nx):\n",
    "                  z = -(Acoef[0,0]*xgrid[i]+Acoef[0,1]*xgrid[j]+Ai[0])/Acoef[0,2]\n",
    "                  if ((z>=x_min)&(z<=x_max)): ax.scatter3D(xgrid[i],xgrid[j],z,marker='.',color='lightgray')\n",
    "\n",
    "          ax.set_xlim(x_min,x_max)\n",
    "          ax.set_ylim(x_min,x_max)\n",
    "          ax.set_zlim(x_min,x_max)\n",
    "          ax.set_xlabel(xF)\n",
    "          ax.set_ylabel(yF)\n",
    "          ax.set_zlabel(zF)            \n",
    "          ax.legend(loc='upper right', fontsize='small')\n",
    "          plt.show()         \n",
    "\n",
    "\n",
    "      #P = clf.get_params()\n",
    "      #print ('\\nAttributes: ',P)"
   ]
  },
  {
   "cell_type": "code",
   "execution_count": 102,
   "metadata": {
    "colab": {
     "base_uri": "https://localhost:8080/",
     "height": 853
    },
    "id": "v-YDRUfr9h56",
    "outputId": "f9c7c183-8c0a-499b-9bdd-79793036a0b3"
   },
   "outputs": [
    {
     "name": "stdout",
     "output_type": "stream",
     "text": [
      "\n",
      "Loss Function:  hinge \n",
      "Score:  0.68\n"
     ]
    },
    {
     "data": {
      "image/png": "[encoded data removed]",
      "text/plain": [
       "<Figure size 576x144 with 1 Axes>"
      ]
     },
     "metadata": {
      "needs_background": "light"
     },
     "output_type": "display_data"
    },
    {
     "name": "stdout",
     "output_type": "stream",
     "text": [
      "\n",
      "Loss Function:  perceptron \n",
      "Score:  0.5533333333333333\n"
     ]
    },
    {
     "data": {
      "image/png": "[encoded data removed]",
      "text/plain": [
       "<Figure size 576x144 with 1 Axes>"
      ]
     },
     "metadata": {
      "needs_background": "light"
     },
     "output_type": "display_data"
    },
    {
     "name": "stdout",
     "output_type": "stream",
     "text": [
      "\n",
      "Loss Function:  log \n",
      "Score:  0.6733333333333333\n"
     ]
    },
    {
     "data": {
      "image/png": "[encoded data removed]",
      "text/plain": [
       "<Figure size 576x144 with 1 Axes>"
      ]
     },
     "metadata": {
      "needs_background": "light"
     },
     "output_type": "display_data"
    },
    {
     "name": "stdout",
     "output_type": "stream",
     "text": [
      "\n",
      "Loss Function:  modified_huber \n",
      "Score:  0.3333333333333333\n"
     ]
    },
    {
     "data": {
      "image/png": "[encoded data removed]",
      "text/plain": [
       "<Figure size 576x144 with 1 Axes>"
      ]
     },
     "metadata": {
      "needs_background": "light"
     },
     "output_type": "display_data"
    }
   ],
   "source": [
    "# Classes: Setosa, Versicolor, Virginica\n",
    "# Feature: sepal length\n",
    "\n",
    "cdx = np.array([0,1,2])             \n",
    "fdx = np.array([0])           \n",
    "\n",
    "for i in range(4):\n",
    "  buildAndFit(cdx, fdx, len(cdx), len(fdx), i, True)"
   ]
  },
  {
   "cell_type": "code",
   "execution_count": 103,
   "metadata": {
    "colab": {
     "base_uri": "https://localhost:8080/",
     "height": 853
    },
    "id": "xrYDXNBShisw",
    "outputId": "025b2a78-ccd6-4915-f16e-5f4f5e00ed41"
   },
   "outputs": [
    {
     "name": "stdout",
     "output_type": "stream",
     "text": [
      "\n",
      "Loss Function:  hinge \n",
      "Score:  0.52\n"
     ]
    },
    {
     "data": {
      "image/png": "[encoded data removed]",
      "text/plain": [
       "<Figure size 576x144 with 1 Axes>"
      ]
     },
     "metadata": {
      "needs_background": "light"
     },
     "output_type": "display_data"
    },
    {
     "name": "stdout",
     "output_type": "stream",
     "text": [
      "\n",
      "Loss Function:  perceptron \n",
      "Score:  0.5333333333333333\n"
     ]
    },
    {
     "data": {
      "image/png": "[encoded data removed]",
      "text/plain": [
       "<Figure size 576x144 with 1 Axes>"
      ]
     },
     "metadata": {
      "needs_background": "light"
     },
     "output_type": "display_data"
    },
    {
     "name": "stdout",
     "output_type": "stream",
     "text": [
      "\n",
      "Loss Function:  log \n",
      "Score:  0.54\n"
     ]
    },
    {
     "data": {
      "image/png": "[encoded data removed]",
      "text/plain": [
       "<Figure size 576x144 with 1 Axes>"
      ]
     },
     "metadata": {
      "needs_background": "light"
     },
     "output_type": "display_data"
    },
    {
     "name": "stdout",
     "output_type": "stream",
     "text": [
      "\n",
      "Loss Function:  modified_huber \n",
      "Score:  0.5133333333333333\n"
     ]
    },
    {
     "data": {
      "image/png": "[encoded data removed]",
      "text/plain": [
       "<Figure size 576x144 with 1 Axes>"
      ]
     },
     "metadata": {
      "needs_background": "light"
     },
     "output_type": "display_data"
    }
   ],
   "source": [
    "# Classes: Setosa, Versicolor, Virginica\n",
    "# Feature: sepal width\n",
    "\n",
    "cdx = np.array([0,1,2])\n",
    "fdx = np.array([1])\n",
    "\n",
    "for i in range(4):\n",
    "  buildAndFit(cdx, fdx, len(cdx), len(fdx), i, True)"
   ]
  },
  {
   "cell_type": "markdown",
   "metadata": {
    "id": "p0j7bnYdw4ic"
   },
   "source": [
    "From the graphs shown when compiling the two cells below, it is clear that Setosa irises have a very different petal length and width from Versicolors and Virginica.  This is why the scores for classifying are higher when we refer to these attributes.  From the two cells above I notice that the sepal lengths and widths are much more similar between the different species, hence the lower scores when those features are used as training data."
   ]
  },
  {
   "cell_type": "code",
   "execution_count": 104,
   "metadata": {
    "colab": {
     "base_uri": "https://localhost:8080/",
     "height": 853
    },
    "id": "42JnqoKFiibr",
    "outputId": "e9c84142-4fa6-45be-9a53-c886269ba7e8"
   },
   "outputs": [
    {
     "name": "stdout",
     "output_type": "stream",
     "text": [
      "\n",
      "Loss Function:  hinge \n",
      "Score:  0.9466666666666667\n"
     ]
    },
    {
     "data": {
      "image/png": "[encoded data removed]",
      "text/plain": [
       "<Figure size 576x144 with 1 Axes>"
      ]
     },
     "metadata": {
      "needs_background": "light"
     },
     "output_type": "display_data"
    },
    {
     "name": "stdout",
     "output_type": "stream",
     "text": [
      "\n",
      "Loss Function:  perceptron \n",
      "Score:  0.8666666666666667\n"
     ]
    },
    {
     "data": {
      "image/png": "[encoded data removed]",
      "text/plain": [
       "<Figure size 576x144 with 1 Axes>"
      ]
     },
     "metadata": {
      "needs_background": "light"
     },
     "output_type": "display_data"
    },
    {
     "name": "stdout",
     "output_type": "stream",
     "text": [
      "\n",
      "Loss Function:  log \n",
      "Score:  0.7066666666666667\n"
     ]
    },
    {
     "data": {
      "image/png": "[encoded data removed]",
      "text/plain": [
       "<Figure size 576x144 with 1 Axes>"
      ]
     },
     "metadata": {
      "needs_background": "light"
     },
     "output_type": "display_data"
    },
    {
     "name": "stdout",
     "output_type": "stream",
     "text": [
      "\n",
      "Loss Function:  modified_huber \n",
      "Score:  0.8333333333333334\n"
     ]
    },
    {
     "data": {
      "image/png": "[encoded data removed]",
      "text/plain": [
       "<Figure size 576x144 with 1 Axes>"
      ]
     },
     "metadata": {
      "needs_background": "light"
     },
     "output_type": "display_data"
    }
   ],
   "source": [
    "# Classes: Setosa, Versicolors, Virginica\n",
    "# Feature: petal length\n",
    "\n",
    "cdx = np.array([0,1,2])\n",
    "fdx = np.array([2])\n",
    "\n",
    "for i in range(4):\n",
    "  buildAndFit(cdx, fdx, len(cdx), len(fdx), i, True)"
   ]
  },
  {
   "cell_type": "code",
   "execution_count": 105,
   "metadata": {
    "colab": {
     "base_uri": "https://localhost:8080/",
     "height": 853
    },
    "id": "2m2JyIktjDhk",
    "outputId": "886b172d-8627-480e-87cc-0ada1a71092e"
   },
   "outputs": [
    {
     "name": "stdout",
     "output_type": "stream",
     "text": [
      "\n",
      "Loss Function:  hinge \n",
      "Score:  0.96\n"
     ]
    },
    {
     "data": {
      "image/png": "[encoded data removed]",
      "text/plain": [
       "<Figure size 576x144 with 1 Axes>"
      ]
     },
     "metadata": {
      "needs_background": "light"
     },
     "output_type": "display_data"
    },
    {
     "name": "stdout",
     "output_type": "stream",
     "text": [
      "\n",
      "Loss Function:  perceptron \n",
      "Score:  0.7666666666666667\n"
     ]
    },
    {
     "data": {
      "image/png": "[encoded data removed]",
      "text/plain": [
       "<Figure size 576x144 with 1 Axes>"
      ]
     },
     "metadata": {
      "needs_background": "light"
     },
     "output_type": "display_data"
    },
    {
     "name": "stdout",
     "output_type": "stream",
     "text": [
      "\n",
      "Loss Function:  log \n",
      "Score:  0.9466666666666667\n"
     ]
    },
    {
     "data": {
      "image/png": "[encoded data removed]",
      "text/plain": [
       "<Figure size 576x144 with 1 Axes>"
      ]
     },
     "metadata": {
      "needs_background": "light"
     },
     "output_type": "display_data"
    },
    {
     "name": "stdout",
     "output_type": "stream",
     "text": [
      "\n",
      "Loss Function:  modified_huber \n",
      "Score:  0.96\n"
     ]
    },
    {
     "data": {
      "image/png": "[encoded data removed]",
      "text/plain": [
       "<Figure size 576x144 with 1 Axes>"
      ]
     },
     "metadata": {
      "needs_background": "light"
     },
     "output_type": "display_data"
    }
   ],
   "source": [
    "# Classes: Setosa, Versicolors, Virginica\n",
    "# Feature: petal width\n",
    "\n",
    "cdx = np.array([0,1,2])\n",
    "fdx = np.array([3])\n",
    "\n",
    "for i in range(4):\n",
    "  buildAndFit(cdx, fdx, len(cdx), len(fdx), i, True)"
   ]
  },
  {
   "cell_type": "code",
   "execution_count": 106,
   "metadata": {
    "colab": {
     "base_uri": "https://localhost:8080/"
    },
    "id": "F62J31LLjIxh",
    "outputId": "f2ddb52a-05c0-438c-a323-7120202858c2"
   },
   "outputs": [
    {
     "name": "stdout",
     "output_type": "stream",
     "text": [
      "\n",
      "Loss Function:  hinge \n",
      "Score:  0.7733333333333333\n",
      "\n",
      "Loss Function:  perceptron \n",
      "Score:  0.7333333333333333\n",
      "\n",
      "Loss Function:  log \n",
      "Score:  0.7666666666666667\n",
      "\n",
      "Loss Function:  modified_huber \n",
      "Score:  0.72\n"
     ]
    }
   ],
   "source": [
    "# Classes: Setosa, Versicolors, Virginica\n",
    "# Features: sepal length, sepal width\n",
    "\n",
    "cdx = np.array([0,1,2])\n",
    "fdx = np.array([0,1])\n",
    "\n",
    "for i in range(4):\n",
    "  buildAndFit(cdx, fdx, len(cdx), len(fdx), i)"
   ]
  },
  {
   "cell_type": "code",
   "execution_count": 107,
   "metadata": {
    "colab": {
     "base_uri": "https://localhost:8080/"
    },
    "id": "rGiLwyr3jVAO",
    "outputId": "99b52339-6dae-458e-fd85-8ffbc93fb9ba"
   },
   "outputs": [
    {
     "name": "stdout",
     "output_type": "stream",
     "text": [
      "\n",
      "Loss Function:  hinge \n",
      "Score:  0.8733333333333333\n",
      "\n",
      "Loss Function:  perceptron \n",
      "Score:  0.7666666666666667\n",
      "\n",
      "Loss Function:  log \n",
      "Score:  0.6666666666666666\n",
      "\n",
      "Loss Function:  modified_huber \n",
      "Score:  0.7066666666666667\n"
     ]
    }
   ],
   "source": [
    "# Classes: Setosa, Versicolors, Virginica\n",
    "# Features: sepal length, petal length\n",
    "\n",
    "cdx = np.array([0,1,2])\n",
    "fdx = np.array([0,2])\n",
    "\n",
    "for i in range(4):\n",
    "  buildAndFit(cdx, fdx, len(cdx), len(fdx), i)"
   ]
  },
  {
   "cell_type": "code",
   "execution_count": 108,
   "metadata": {
    "colab": {
     "base_uri": "https://localhost:8080/"
    },
    "id": "WrjSpPHnjfc1",
    "outputId": "2c192d5d-dd69-4d08-8dc2-2fdb5856e1f3"
   },
   "outputs": [
    {
     "name": "stdout",
     "output_type": "stream",
     "text": [
      "\n",
      "Loss Function:  hinge \n",
      "Score:  0.94\n",
      "\n",
      "Loss Function:  perceptron \n",
      "Score:  0.7466666666666667\n",
      "\n",
      "Loss Function:  log \n",
      "Score:  0.76\n",
      "\n",
      "Loss Function:  modified_huber \n",
      "Score:  0.7266666666666667\n"
     ]
    }
   ],
   "source": [
    "# Classes: Setosa, Versicolors, Virginica\n",
    "# Features: sepal length, petal width\n",
    "\n",
    "cdx = np.array([0,1,2])\n",
    "fdx = np.array([0,3])\n",
    "\n",
    "for i in range(4):\n",
    "  buildAndFit(cdx, fdx, len(cdx), len(fdx), i)"
   ]
  },
  {
   "cell_type": "code",
   "execution_count": 109,
   "metadata": {
    "colab": {
     "base_uri": "https://localhost:8080/",
     "height": 703
    },
    "id": "cJG__9NgjmbJ",
    "outputId": "dacf76fe-b78d-412f-9476-aa12e66bfbcd"
   },
   "outputs": [
    {
     "name": "stdout",
     "output_type": "stream",
     "text": [
      "\n",
      "Loss Function:  hinge \n",
      "Score:  0.8866666666666667\n",
      "\n",
      "Loss Function:  perceptron \n",
      "Score:  0.9133333333333333\n",
      "\n",
      "Loss Function:  log \n",
      "Score:  0.6866666666666666\n",
      "\n",
      "Loss Function:  modified_huber \n",
      "Score:  0.7\n"
     ]
    },
    {
     "data": {
      "image/png": "[encoded data removed]",
      "text/plain": [
       "<Figure size 576x576 with 1 Axes>"
      ]
     },
     "metadata": {
      "needs_background": "light"
     },
     "output_type": "display_data"
    }
   ],
   "source": [
    "# Classes: Setosa, Versicolors, Virginica\n",
    "# TODO: Why isn't this being graphed for all of the loss functions?\n",
    "# Features: sepal width, petal length\n",
    "\n",
    "cdx = np.array([0,1,2])\n",
    "fdx = np.array([1,2])\n",
    "\n",
    "for i in range(4):\n",
    "  buildAndFit(cdx, fdx, len(cdx), len(fdx), i, True)"
   ]
  },
  {
   "cell_type": "code",
   "execution_count": 110,
   "metadata": {
    "colab": {
     "base_uri": "https://localhost:8080/",
     "height": 703
    },
    "id": "mc5lUyRFjtMy",
    "outputId": "975b4a8d-ed6e-4549-fb43-66822b2c01d3"
   },
   "outputs": [
    {
     "name": "stdout",
     "output_type": "stream",
     "text": [
      "\n",
      "Loss Function:  hinge \n",
      "Score:  0.8933333333333333\n",
      "\n",
      "Loss Function:  perceptron \n",
      "Score:  0.68\n",
      "\n",
      "Loss Function:  log \n",
      "Score:  0.8733333333333333\n",
      "\n",
      "Loss Function:  modified_huber \n",
      "Score:  0.9533333333333334\n"
     ]
    },
    {
     "data": {
      "image/png": "[encoded data removed]",
      "text/plain": [
       "<Figure size 576x576 with 1 Axes>"
      ]
     },
     "metadata": {
      "needs_background": "light"
     },
     "output_type": "display_data"
    }
   ],
   "source": [
    "# Classes: Setosa, Versicolors, Virginica\n",
    "# TODO: Why isn't this being graphed for all of the loss functions?\n",
    "# Features: sepal width, petal width\n",
    "\n",
    "cdx = np.array([0,1,2])\n",
    "fdx = np.array([1,3])\n",
    "\n",
    "for i in range(4):\n",
    "  buildAndFit(cdx, fdx, len(cdx), len(fdx), i, True)"
   ]
  },
  {
   "cell_type": "code",
   "execution_count": 111,
   "metadata": {
    "colab": {
     "base_uri": "https://localhost:8080/",
     "height": 703
    },
    "id": "nZQQuZMajzke",
    "outputId": "80a792b3-7c88-47ac-e2fd-619b0eb89660"
   },
   "outputs": [
    {
     "name": "stdout",
     "output_type": "stream",
     "text": [
      "\n",
      "Loss Function:  hinge \n",
      "Score:  0.96\n",
      "\n",
      "Loss Function:  perceptron \n",
      "Score:  0.8533333333333334\n",
      "\n",
      "Loss Function:  log \n",
      "Score:  0.9266666666666666\n",
      "\n",
      "Loss Function:  modified_huber \n",
      "Score:  0.88\n"
     ]
    },
    {
     "data": {
      "image/png": "[encoded data removed]",
      "text/plain": [
       "<Figure size 576x576 with 1 Axes>"
      ]
     },
     "metadata": {
      "needs_background": "light"
     },
     "output_type": "display_data"
    }
   ],
   "source": [
    "# TODO: Why isn't this being graphed for all of the loss functions?\n",
    "# Classes: Setosa, Versicolors, Virginica\n",
    "# Features: petal length, petal width\n",
    "\n",
    "cdx = np.array([0,1,2])\n",
    "fdx = np.array([2,3])\n",
    "\n",
    "for i in range(4):\n",
    "  buildAndFit(cdx, fdx, len(cdx), len(fdx), i, True)"
   ]
  },
  {
   "cell_type": "code",
   "execution_count": 112,
   "metadata": {
    "colab": {
     "base_uri": "https://localhost:8080/"
    },
    "id": "oDlsKGt4j4eM",
    "outputId": "031ba0db-9a98-4fae-f470-81074d6f92a1"
   },
   "outputs": [
    {
     "name": "stdout",
     "output_type": "stream",
     "text": [
      "\n",
      "Loss Function:  hinge \n",
      "Score:  0.8866666666666667\n",
      "\n",
      "Loss Function:  perceptron \n",
      "Score:  0.6666666666666666\n",
      "\n",
      "Loss Function:  log \n",
      "Score:  0.9066666666666666\n",
      "\n",
      "Loss Function:  modified_huber \n",
      "Score:  0.76\n"
     ]
    }
   ],
   "source": [
    "# Classes: Setosa, Versicolors, Virginica\n",
    "# Features: sepal length, sepal width, petal length\n",
    "\n",
    "cdx = np.array([0,1,2])\n",
    "fdx = np.array([0,1,2])\n",
    "\n",
    "for i in range(4):\n",
    "  buildAndFit(cdx, fdx, len(cdx), len(fdx), i)"
   ]
  },
  {
   "cell_type": "code",
   "execution_count": 113,
   "metadata": {
    "colab": {
     "base_uri": "https://localhost:8080/"
    },
    "id": "bX0BDjXKkDz6",
    "outputId": "ce72517a-02f1-4127-9e0a-11aab8475569"
   },
   "outputs": [
    {
     "name": "stdout",
     "output_type": "stream",
     "text": [
      "\n",
      "Loss Function:  hinge \n",
      "Score:  0.9133333333333333\n",
      "\n",
      "Loss Function:  perceptron \n",
      "Score:  0.7666666666666667\n",
      "\n",
      "Loss Function:  log \n",
      "Score:  0.8\n",
      "\n",
      "Loss Function:  modified_huber \n",
      "Score:  0.9533333333333334\n"
     ]
    }
   ],
   "source": [
    "# Classes: Setosa, Versicolors, Virginica\n",
    "# Features: sepal width, petal length, petal width\n",
    "\n",
    "cdx = np.array([0,1,2])\n",
    "fdx = np.array([1,2,3])\n",
    "\n",
    "for i in range(4):\n",
    "  buildAndFit(cdx, fdx, len(cdx), len(fdx), i)"
   ]
  },
  {
   "cell_type": "code",
   "execution_count": 114,
   "metadata": {
    "colab": {
     "base_uri": "https://localhost:8080/"
    },
    "id": "QPo_rusCkOYN",
    "outputId": "a707ec10-bfa1-4c9d-c60b-f0ac1e1834d6"
   },
   "outputs": [
    {
     "name": "stdout",
     "output_type": "stream",
     "text": [
      "\n",
      "Loss Function:  hinge \n",
      "Score:  0.7933333333333333\n",
      "\n",
      "Loss Function:  perceptron \n",
      "Score:  0.8\n",
      "\n",
      "Loss Function:  log \n",
      "Score:  0.9533333333333334\n",
      "\n",
      "Loss Function:  modified_huber \n",
      "Score:  0.84\n"
     ]
    }
   ],
   "source": [
    "# Classes: Setosa, Versicolors, Virginica\n",
    "# Features: sepal length, petal length, petal width\n",
    "\n",
    "cdx = np.array([0,1,2])\n",
    "fdx = np.array([0,2,3])\n",
    "\n",
    "for i in range(4):\n",
    "  buildAndFit(cdx, fdx, len(cdx), len(fdx), i)"
   ]
  },
  {
   "cell_type": "code",
   "execution_count": 115,
   "metadata": {
    "colab": {
     "base_uri": "https://localhost:8080/",
     "height": 1000
    },
    "id": "IUa-6luju6_w",
    "outputId": "ae6f0051-5a2d-4063-e595-31bc1233821d"
   },
   "outputs": [
    {
     "name": "stdout",
     "output_type": "stream",
     "text": [
      "\n",
      "Loss Function:  hinge \n",
      "Score:  0.9266666666666666\n"
     ]
    },
    {
     "data": {
      "image/png": "[encoded data removed]",
      "text/plain": [
       "<Figure size 432x432 with 1 Axes>"
      ]
     },
     "metadata": {
      "needs_background": "light"
     },
     "output_type": "display_data"
    },
    {
     "name": "stdout",
     "output_type": "stream",
     "text": [
      "\n",
      "Loss Function:  perceptron \n",
      "Score:  0.9066666666666666\n"
     ]
    },
    {
     "data": {
      "image/png": "[encoded data removed]",
      "text/plain": [
       "<Figure size 432x432 with 1 Axes>"
      ]
     },
     "metadata": {
      "needs_background": "light"
     },
     "output_type": "display_data"
    },
    {
     "name": "stdout",
     "output_type": "stream",
     "text": [
      "\n",
      "Loss Function:  log \n",
      "Score:  0.6066666666666667\n"
     ]
    },
    {
     "data": {
      "image/png": "[encoded data removed]",
      "text/plain": [
       "<Figure size 432x432 with 1 Axes>"
      ]
     },
     "metadata": {
      "needs_background": "light"
     },
     "output_type": "display_data"
    },
    {
     "name": "stdout",
     "output_type": "stream",
     "text": [
      "\n",
      "Loss Function:  modified_huber \n",
      "Score:  0.7866666666666666\n"
     ]
    },
    {
     "data": {
      "image/png": "[encoded data removed]",
      "text/plain": [
       "<Figure size 432x432 with 1 Axes>"
      ]
     },
     "metadata": {
      "needs_background": "light"
     },
     "output_type": "display_data"
    }
   ],
   "source": [
    "# TODO: Why isn't this being graphed for all of the loss functions?\n",
    "# Classes: Setosa, Versicolors, Virginica\n",
    "# Features: sepal length, petal length, petal width\n",
    "cdx = np.array([0,1,2])\n",
    "fdx = np.array([0,1,3])\n",
    "\n",
    "for i in range(4):\n",
    "  buildAndFit(cdx, fdx, len(cdx), len(fdx), i, True)"
   ]
  },
  {
   "cell_type": "code",
   "execution_count": 116,
   "metadata": {
    "colab": {
     "base_uri": "https://localhost:8080/"
    },
    "id": "qnmb5bgNkZiR",
    "outputId": "f3408e41-a559-45da-b14b-6495fa22b20f"
   },
   "outputs": [
    {
     "name": "stdout",
     "output_type": "stream",
     "text": [
      "\n",
      "Loss Function:  hinge \n",
      "Score:  0.9666666666666667\n",
      "\n",
      "Loss Function:  perceptron \n",
      "Score:  0.9133333333333333\n",
      "\n",
      "Loss Function:  log \n",
      "Score:  0.5666666666666667\n",
      "\n",
      "Loss Function:  modified_huber \n",
      "Score:  0.7933333333333333\n"
     ]
    }
   ],
   "source": [
    "# TODO: Why isn't this being graphed for all of the loss functions?\n",
    "# Classes: Setosa, Versicolors, Virginica\n",
    "# Feature: sepal length, sepal width, petal length, petal width\n",
    "\n",
    "cdx = np.array([0,1,2])\n",
    "fdx = np.array([0,1,2,3])\n",
    "\n",
    "for i in range(4):\n",
    "  buildAndFit(cdx, fdx, len(cdx), len(fdx), i)"
   ]
  },
  {
   "cell_type": "code",
   "execution_count": 178,
   "metadata": {
    "colab": {
     "base_uri": "https://localhost:8080/",
     "height": 853
    },
    "id": "DLmR9JeTkkNA",
    "outputId": "c183ceb3-f894-4a91-845e-b6b8a704d01b"
   },
   "outputs": [
    {
     "name": "stdout",
     "output_type": "stream",
     "text": [
      "\n",
      "Loss Function:  hinge \n",
      "Score:  0.5\n"
     ]
    },
    {
     "data": {
      "image/png": "[encoded data removed]",
      "text/plain": [
       "<Figure size 576x144 with 1 Axes>"
      ]
     },
     "metadata": {
      "needs_background": "light"
     },
     "output_type": "display_data"
    },
    {
     "name": "stdout",
     "output_type": "stream",
     "text": [
      "\n",
      "Loss Function:  perceptron \n",
      "Score:  0.61\n"
     ]
    },
    {
     "data": {
      "image/png": "[encoded data removed]",
      "text/plain": [
       "<Figure size 576x144 with 1 Axes>"
      ]
     },
     "metadata": {
      "needs_background": "light"
     },
     "output_type": "display_data"
    },
    {
     "name": "stdout",
     "output_type": "stream",
     "text": [
      "\n",
      "Loss Function:  log \n",
      "Score:  0.86\n"
     ]
    },
    {
     "data": {
      "image/png": "[encoded data removed]",
      "text/plain": [
       "<Figure size 576x144 with 1 Axes>"
      ]
     },
     "metadata": {
      "needs_background": "light"
     },
     "output_type": "display_data"
    },
    {
     "name": "stdout",
     "output_type": "stream",
     "text": [
      "\n",
      "Loss Function:  modified_huber \n",
      "Score:  0.85\n"
     ]
    },
    {
     "data": {
      "image/png": "[encoded data removed]",
      "text/plain": [
       "<Figure size 576x144 with 1 Axes>"
      ]
     },
     "metadata": {
      "needs_background": "light"
     },
     "output_type": "display_data"
    }
   ],
   "source": [
    "# Classes: Setosa, Versicolors\n",
    "# Feature: sepal length\n",
    "\n",
    "cdx = np.array([0,1])\n",
    "fdx = np.array([0])\n",
    "\n",
    "for i in range(4):\n",
    "  buildAndFit(cdx, fdx, len(cdx), len(fdx), i, True)"
   ]
  },
  {
   "cell_type": "code",
   "execution_count": 177,
   "metadata": {
    "colab": {
     "base_uri": "https://localhost:8080/",
     "height": 853
    },
    "id": "5MIp4x5KkrAG",
    "outputId": "aee290ce-8f6e-4522-bc92-01154a377ae8"
   },
   "outputs": [
    {
     "name": "stdout",
     "output_type": "stream",
     "text": [
      "\n",
      "Loss Function:  hinge \n",
      "Score:  0.82\n"
     ]
    },
    {
     "data": {
      "image/png": "[encoded data removed]",
      "text/plain": [
       "<Figure size 576x144 with 1 Axes>"
      ]
     },
     "metadata": {
      "needs_background": "light"
     },
     "output_type": "display_data"
    },
    {
     "name": "stdout",
     "output_type": "stream",
     "text": [
      "\n",
      "Loss Function:  perceptron \n",
      "Score:  0.81\n"
     ]
    },
    {
     "data": {
      "image/png": "[encoded data removed]",
      "text/plain": [
       "<Figure size 576x144 with 1 Axes>"
      ]
     },
     "metadata": {
      "needs_background": "light"
     },
     "output_type": "display_data"
    },
    {
     "name": "stdout",
     "output_type": "stream",
     "text": [
      "\n",
      "Loss Function:  log \n",
      "Score:  0.83\n"
     ]
    },
    {
     "data": {
      "image/png": "[encoded data removed]",
      "text/plain": [
       "<Figure size 576x144 with 1 Axes>"
      ]
     },
     "metadata": {
      "needs_background": "light"
     },
     "output_type": "display_data"
    },
    {
     "name": "stdout",
     "output_type": "stream",
     "text": [
      "\n",
      "Loss Function:  modified_huber \n",
      "Score:  0.81\n"
     ]
    },
    {
     "data": {
      "image/png": "[encoded data removed]",
      "text/plain": [
       "<Figure size 576x144 with 1 Axes>"
      ]
     },
     "metadata": {
      "needs_background": "light"
     },
     "output_type": "display_data"
    }
   ],
   "source": [
    "# Classes: Setosa, Versicolors\n",
    "# Feature: sepal width\n",
    "\n",
    "cdx = np.array([0,1])\n",
    "fdx = np.array([1])\n",
    "\n",
    "for i in range(4):\n",
    "  buildAndFit(cdx, fdx, len(cdx), len(fdx), i, True)"
   ]
  },
  {
   "cell_type": "markdown",
   "metadata": {
    "id": "Vly0jBoYyTR2"
   },
   "source": [
    "As shown by the graph produced from the two cells below, there is great disparity between Setosa petal length and Versicolors petal length, and the same goes for petal width.  This is why the classification is so accurate in these dataset-model pairs.  In contrast, the graphs from the two cells above show that the ranges of sepal length and sepal width overlap quite a bit, which greatly reduces the accuracy of the predictions.  "
   ]
  },
  {
   "cell_type": "code",
   "execution_count": 119,
   "metadata": {
    "colab": {
     "base_uri": "https://localhost:8080/",
     "height": 853
    },
    "id": "s_r5P5ilk3AD",
    "outputId": "575ac7bf-ed24-41fb-c124-f0bce5692ced"
   },
   "outputs": [
    {
     "name": "stdout",
     "output_type": "stream",
     "text": [
      "\n",
      "Loss Function:  hinge \n",
      "Score:  1.0\n"
     ]
    },
    {
     "data": {
      "image/png": "[encoded data removed]",
      "text/plain": [
       "<Figure size 576x144 with 1 Axes>"
      ]
     },
     "metadata": {
      "needs_background": "light"
     },
     "output_type": "display_data"
    },
    {
     "name": "stdout",
     "output_type": "stream",
     "text": [
      "\n",
      "Loss Function:  perceptron \n",
      "Score:  1.0\n"
     ]
    },
    {
     "data": {
      "image/png": "[encoded data removed]",
      "text/plain": [
       "<Figure size 576x144 with 1 Axes>"
      ]
     },
     "metadata": {
      "needs_background": "light"
     },
     "output_type": "display_data"
    },
    {
     "name": "stdout",
     "output_type": "stream",
     "text": [
      "\n",
      "Loss Function:  log \n",
      "Score:  1.0\n"
     ]
    },
    {
     "data": {
      "image/png": "[encoded data removed]",
      "text/plain": [
       "<Figure size 576x144 with 1 Axes>"
      ]
     },
     "metadata": {
      "needs_background": "light"
     },
     "output_type": "display_data"
    },
    {
     "name": "stdout",
     "output_type": "stream",
     "text": [
      "\n",
      "Loss Function:  modified_huber \n",
      "Score:  0.98\n"
     ]
    },
    {
     "data": {
      "image/png": "[encoded data removed]",
      "text/plain": [
       "<Figure size 576x144 with 1 Axes>"
      ]
     },
     "metadata": {
      "needs_background": "light"
     },
     "output_type": "display_data"
    }
   ],
   "source": [
    "# Classes: Setosa, Versicolors\n",
    "# Feature: petal length\n",
    "\n",
    "cdx = np.array([0,1])\n",
    "fdx = np.array([2])\n",
    "\n",
    "for i in range(4):\n",
    "  buildAndFit(cdx, fdx, len(cdx), len(fdx), i, True)"
   ]
  },
  {
   "cell_type": "code",
   "execution_count": 162,
   "metadata": {
    "colab": {
     "base_uri": "https://localhost:8080/",
     "height": 853
    },
    "id": "BbFP7CCDk8DZ",
    "outputId": "e3171379-9b0e-442f-d9a5-8c399b26d5c9"
   },
   "outputs": [
    {
     "name": "stdout",
     "output_type": "stream",
     "text": [
      "\n",
      "Loss Function:  hinge \n",
      "Score:  1.0\n"
     ]
    },
    {
     "data": {
      "image/png": "[encoded data removed]",
      "text/plain": [
       "<Figure size 576x144 with 1 Axes>"
      ]
     },
     "metadata": {
      "needs_background": "light"
     },
     "output_type": "display_data"
    },
    {
     "name": "stdout",
     "output_type": "stream",
     "text": [
      "\n",
      "Loss Function:  perceptron \n",
      "Score:  1.0\n"
     ]
    },
    {
     "data": {
      "image/png": "[encoded data removed]",
      "text/plain": [
       "<Figure size 576x144 with 1 Axes>"
      ]
     },
     "metadata": {
      "needs_background": "light"
     },
     "output_type": "display_data"
    },
    {
     "name": "stdout",
     "output_type": "stream",
     "text": [
      "\n",
      "Loss Function:  log \n",
      "Score:  1.0\n"
     ]
    },
    {
     "data": {
      "image/png": "[encoded data removed]",
      "text/plain": [
       "<Figure size 576x144 with 1 Axes>"
      ]
     },
     "metadata": {
      "needs_background": "light"
     },
     "output_type": "display_data"
    },
    {
     "name": "stdout",
     "output_type": "stream",
     "text": [
      "\n",
      "Loss Function:  modified_huber \n",
      "Score:  1.0\n"
     ]
    },
    {
     "data": {
      "image/png": "[encoded data removed]",
      "text/plain": [
       "<Figure size 576x144 with 1 Axes>"
      ]
     },
     "metadata": {
      "needs_background": "light"
     },
     "output_type": "display_data"
    }
   ],
   "source": [
    "# Classes: Setosa, Versicolors\n",
    "# Feature: petal width\n",
    "\n",
    "cdx = np.array([0,1])\n",
    "fdx = np.array([3])\n",
    "\n",
    "for i in range(4):\n",
    "  buildAndFit(cdx, fdx, len(cdx), len(fdx), i, True)"
   ]
  },
  {
   "cell_type": "code",
   "execution_count": 176,
   "metadata": {
    "colab": {
     "base_uri": "https://localhost:8080/"
    },
    "id": "Fjm4oiKDlAH_",
    "outputId": "b47b3750-493f-43ed-bd3d-1df561a718f0"
   },
   "outputs": [
    {
     "name": "stdout",
     "output_type": "stream",
     "text": [
      "\n",
      "Loss Function:  hinge \n",
      "Score:  0.99\n",
      "\n",
      "Loss Function:  perceptron \n",
      "Score:  0.99\n",
      "\n",
      "Loss Function:  log \n",
      "Score:  0.99\n",
      "\n",
      "Loss Function:  modified_huber \n",
      "Score:  0.99\n"
     ]
    }
   ],
   "source": [
    "# TODO: graph not working\n",
    "# Classes: Setosa, Versicolors\n",
    "# Features: sepal length, sepal width\n",
    "\n",
    "cdx = np.array([0,1])\n",
    "fdx = np.array([0,1])\n",
    "\n",
    "for i in range(4):\n",
    "  buildAndFit(cdx, fdx, len(cdx), len(fdx), i)"
   ]
  },
  {
   "cell_type": "code",
   "execution_count": 175,
   "metadata": {
    "colab": {
     "base_uri": "https://localhost:8080/"
    },
    "id": "n-ozNeb2lGJH",
    "outputId": "97e42333-3e26-414f-d405-6e3d1898e43a"
   },
   "outputs": [
    {
     "name": "stdout",
     "output_type": "stream",
     "text": [
      "\n",
      "Loss Function:  hinge \n",
      "Score:  1.0\n",
      "\n",
      "Loss Function:  perceptron \n",
      "Score:  1.0\n",
      "\n",
      "Loss Function:  log \n",
      "Score:  1.0\n",
      "\n",
      "Loss Function:  modified_huber \n",
      "Score:  1.0\n"
     ]
    }
   ],
   "source": [
    "# TODO: graph not working, want to make some conclusion here because sepal length was also used\n",
    "# Classes: Setosa, Versicolors\n",
    "# Features: sepal length, petal length\n",
    "\n",
    "cdx = np.array([0,1])\n",
    "fdx = np.array([0,2])\n",
    "\n",
    "for i in range(4):\n",
    "  buildAndFit(cdx, fdx, len(cdx), len(fdx), i)"
   ]
  },
  {
   "cell_type": "code",
   "execution_count": 174,
   "metadata": {
    "colab": {
     "base_uri": "https://localhost:8080/"
    },
    "id": "Mhw8Okb_lLWG",
    "outputId": "94c733fb-7a0f-4ddd-b327-897ccb71809b"
   },
   "outputs": [
    {
     "name": "stdout",
     "output_type": "stream",
     "text": [
      "\n",
      "Loss Function:  hinge \n",
      "Score:  1.0\n",
      "\n",
      "Loss Function:  perceptron \n",
      "Score:  1.0\n",
      "\n",
      "Loss Function:  log \n",
      "Score:  1.0\n",
      "\n",
      "Loss Function:  modified_huber \n",
      "Score:  1.0\n"
     ]
    }
   ],
   "source": [
    "# TODO: graph not working, want to make some conclusion here because sepal length was also used\n",
    "# Classes: Setosa, Versicolors\n",
    "# Features: sepal length, petal width\n",
    "\n",
    "cdx = np.array([0,1])\n",
    "fdx = np.array([0,3])\n",
    "\n",
    "for i in range(4):\n",
    "  buildAndFit(cdx, fdx, len(cdx), len(fdx), i)"
   ]
  },
  {
   "cell_type": "code",
   "execution_count": 173,
   "metadata": {
    "colab": {
     "base_uri": "https://localhost:8080/"
    },
    "id": "Lz6aYBdHlZlL",
    "outputId": "f04472bb-af50-4bbb-883e-56df46c69aad"
   },
   "outputs": [
    {
     "name": "stdout",
     "output_type": "stream",
     "text": [
      "\n",
      "Loss Function:  hinge \n",
      "Score:  1.0\n",
      "\n",
      "Loss Function:  perceptron \n",
      "Score:  1.0\n",
      "\n",
      "Loss Function:  log \n",
      "Score:  1.0\n",
      "\n",
      "Loss Function:  modified_huber \n",
      "Score:  1.0\n"
     ]
    }
   ],
   "source": [
    "# Classes: Setosa, Versicolors\n",
    "# Features: sepal width, petal length\n",
    "\n",
    "cdx = np.array([0,1])\n",
    "fdx = np.array([1,2])\n",
    "\n",
    "for i in range(4):\n",
    "  buildAndFit(cdx, fdx, len(cdx), len(fdx), i)"
   ]
  },
  {
   "cell_type": "code",
   "execution_count": 172,
   "metadata": {
    "colab": {
     "base_uri": "https://localhost:8080/"
    },
    "id": "MNraICiwlgjG",
    "outputId": "87de2f79-603f-4bf1-dbc8-1e129c9e93c7"
   },
   "outputs": [
    {
     "name": "stdout",
     "output_type": "stream",
     "text": [
      "\n",
      "Loss Function:  hinge \n",
      "Score:  1.0\n",
      "\n",
      "Loss Function:  perceptron \n",
      "Score:  1.0\n",
      "\n",
      "Loss Function:  log \n",
      "Score:  1.0\n",
      "\n",
      "Loss Function:  modified_huber \n",
      "Score:  1.0\n"
     ]
    }
   ],
   "source": [
    "# Classes: Setosa, Versicolors\n",
    "# Features: sepal width, petal width\n",
    "\n",
    "cdx = np.array([0,1])\n",
    "fdx = np.array([1,3])\n",
    "\n",
    "for i in range(4):\n",
    "  buildAndFit(cdx, fdx, len(cdx), len(fdx), i)"
   ]
  },
  {
   "cell_type": "code",
   "execution_count": 171,
   "metadata": {
    "colab": {
     "base_uri": "https://localhost:8080/"
    },
    "id": "J8XTRGZjlmIL",
    "outputId": "0f29f55c-c673-425a-e2fa-c216d1f8ecf4"
   },
   "outputs": [
    {
     "name": "stdout",
     "output_type": "stream",
     "text": [
      "\n",
      "Loss Function:  hinge \n",
      "Score:  1.0\n",
      "\n",
      "Loss Function:  perceptron \n",
      "Score:  1.0\n",
      "\n",
      "Loss Function:  log \n",
      "Score:  1.0\n",
      "\n",
      "Loss Function:  modified_huber \n",
      "Score:  1.0\n"
     ]
    }
   ],
   "source": [
    "# Classes: Setosa, Versicolors\n",
    "# Features: petal length, petal width\n",
    "\n",
    "cdx = np.array([0,1])\n",
    "fdx = np.array([2,3])\n",
    "\n",
    "for i in range(4):\n",
    "  buildAndFit(cdx, fdx, len(cdx), len(fdx), i)"
   ]
  },
  {
   "cell_type": "code",
   "execution_count": 169,
   "metadata": {
    "colab": {
     "base_uri": "https://localhost:8080/"
    },
    "id": "dQ3bskjJluN7",
    "outputId": "01b880fb-afb4-4de3-aa1d-b3452a00f7e7"
   },
   "outputs": [
    {
     "name": "stdout",
     "output_type": "stream",
     "text": [
      "\n",
      "Loss Function:  hinge \n",
      "Score:  1.0\n",
      "\n",
      "Loss Function:  perceptron \n",
      "Score:  1.0\n",
      "\n",
      "Loss Function:  log \n",
      "Score:  1.0\n",
      "\n",
      "Loss Function:  modified_huber \n",
      "Score:  1.0\n"
     ]
    }
   ],
   "source": [
    "# Classes: Setosa, Versicolors\n",
    "# Features: sepal length, sepal width, petal length\n",
    "\n",
    "cdx = np.array([0,1])\n",
    "fdx = np.array([0,1,2])\n",
    "\n",
    "for i in range(4):\n",
    "  buildAndFit(cdx, fdx, len(cdx), len(fdx), i)"
   ]
  },
  {
   "cell_type": "code",
   "execution_count": 128,
   "metadata": {
    "colab": {
     "base_uri": "https://localhost:8080/"
    },
    "id": "HBaiAOyulzqi",
    "outputId": "30dfe620-0a20-4977-a77e-55b59041e515"
   },
   "outputs": [
    {
     "name": "stdout",
     "output_type": "stream",
     "text": [
      "\n",
      "Loss Function:  hinge \n",
      "Score:  1.0\n",
      "\n",
      "Loss Function:  perceptron \n",
      "Score:  1.0\n",
      "\n",
      "Loss Function:  log \n",
      "Score:  1.0\n",
      "\n",
      "Loss Function:  modified_huber \n",
      "Score:  1.0\n"
     ]
    }
   ],
   "source": [
    "# Classes: Setosa, Versicolors\n",
    "# Features: sepal width, petal length, petal width\n",
    "\n",
    "cdx = np.array([0,1])\n",
    "fdx = np.array([1,2,3])\n",
    "\n",
    "for i in range(4):\n",
    "  buildAndFit(cdx, fdx, len(cdx), len(fdx), i)"
   ]
  },
  {
   "cell_type": "code",
   "execution_count": 129,
   "metadata": {
    "colab": {
     "base_uri": "https://localhost:8080/"
    },
    "id": "24gOp7rPl8WH",
    "outputId": "aa27cc28-e012-4c30-8a51-81fcd458421c"
   },
   "outputs": [
    {
     "name": "stdout",
     "output_type": "stream",
     "text": [
      "\n",
      "Loss Function:  hinge \n",
      "Score:  1.0\n",
      "\n",
      "Loss Function:  perceptron \n",
      "Score:  1.0\n",
      "\n",
      "Loss Function:  log \n",
      "Score:  1.0\n",
      "\n",
      "Loss Function:  modified_huber \n",
      "Score:  1.0\n"
     ]
    }
   ],
   "source": [
    "# Classes: Setosa, Versicolors\n",
    "# Features: sepal length, petal length, petal width\n",
    "\n",
    "cdx = np.array([0,1])\n",
    "fdx = np.array([0,2,3])\n",
    "\n",
    "for i in range(4):\n",
    "  buildAndFit(cdx, fdx, len(cdx), len(fdx), i)"
   ]
  },
  {
   "cell_type": "code",
   "execution_count": 130,
   "metadata": {
    "colab": {
     "base_uri": "https://localhost:8080/"
    },
    "id": "8VL_Foy9uzNa",
    "outputId": "aa54d23a-d220-4339-a5ae-83c5ce5e4d6f"
   },
   "outputs": [
    {
     "name": "stdout",
     "output_type": "stream",
     "text": [
      "\n",
      "Loss Function:  hinge \n",
      "Score:  1.0\n",
      "\n",
      "Loss Function:  perceptron \n",
      "Score:  1.0\n",
      "\n",
      "Loss Function:  log \n",
      "Score:  1.0\n",
      "\n",
      "Loss Function:  modified_huber \n",
      "Score:  1.0\n"
     ]
    }
   ],
   "source": [
    "# Classes: Setosa, Versicolors\n",
    "# Features: sepal length, petal length, petal width\n",
    "cdx = np.array([0,1])\n",
    "fdx = np.array([0,1,3])\n",
    "\n",
    "for i in range(4):\n",
    "  buildAndFit(cdx, fdx, len(cdx), len(fdx), i)"
   ]
  },
  {
   "cell_type": "markdown",
   "metadata": {
    "id": "aB1XPU1ETauA"
   },
   "source": [
    "The cell below shows how for each loss function the resulting score is perfect.  I suspect this is because the weights were higher for petal length and petal width than for sepal length and sepal width."
   ]
  },
  {
   "cell_type": "code",
   "execution_count": 170,
   "metadata": {
    "colab": {
     "base_uri": "https://localhost:8080/"
    },
    "id": "WA41Z0VxmCKp",
    "outputId": "a22df346-9fa4-472e-f4f0-4587e208112d"
   },
   "outputs": [
    {
     "name": "stdout",
     "output_type": "stream",
     "text": [
      "\n",
      "Loss Function:  hinge \n",
      "Score:  1.0\n",
      "\n",
      "Loss Function:  perceptron \n",
      "Score:  1.0\n",
      "\n",
      "Loss Function:  log \n",
      "Score:  1.0\n",
      "\n",
      "Loss Function:  modified_huber \n",
      "Score:  1.0\n"
     ]
    }
   ],
   "source": [
    "# TODO: i want a graph!!\n",
    "# Classes: Setosa, Versicolors\n",
    "# Features: sepal length, sepal width, petal length, petal width\n",
    "\n",
    "cdx = np.array([0,1])\n",
    "fdx = np.array([0,1,2,3])\n",
    "\n",
    "for i in range(4):\n",
    "  buildAndFit(cdx, fdx, len(cdx), len(fdx), i, True)"
   ]
  },
  {
   "cell_type": "code",
   "execution_count": 132,
   "metadata": {
    "colab": {
     "base_uri": "https://localhost:8080/"
    },
    "id": "aym6vL1imptS",
    "outputId": "ddd5bd01-c28d-4c3b-8f49-eea7b66ec7aa"
   },
   "outputs": [
    {
     "name": "stdout",
     "output_type": "stream",
     "text": [
      "\n",
      "Loss Function:  hinge \n",
      "Score:  0.72\n",
      "\n",
      "Loss Function:  perceptron \n",
      "Score:  0.95\n",
      "\n",
      "Loss Function:  log \n",
      "Score:  0.95\n",
      "\n",
      "Loss Function:  modified_huber \n",
      "Score:  0.77\n"
     ]
    }
   ],
   "source": [
    "# Classes: Setosa, Virginica\n",
    "# Feature: sepal length\n",
    "cdx = np.array([0,2])\n",
    "fdx = np.array([0])\n",
    "\n",
    "for i in range(4):\n",
    "  buildAndFit(cdx, fdx, len(cdx), len(fdx), i)"
   ]
  },
  {
   "cell_type": "code",
   "execution_count": 133,
   "metadata": {
    "colab": {
     "base_uri": "https://localhost:8080/"
    },
    "id": "4QoNttMgoXUH",
    "outputId": "6dc34a0f-65eb-4566-91a2-9928753aba3c"
   },
   "outputs": [
    {
     "name": "stdout",
     "output_type": "stream",
     "text": [
      "\n",
      "Loss Function:  hinge \n",
      "Score:  0.52\n",
      "\n",
      "Loss Function:  perceptron \n",
      "Score:  0.56\n",
      "\n",
      "Loss Function:  log \n",
      "Score:  0.61\n",
      "\n",
      "Loss Function:  modified_huber \n",
      "Score:  0.6\n"
     ]
    }
   ],
   "source": [
    "# Classes: Setosa, Virginica\n",
    "# Feature: sepal width\n",
    "cdx = np.array([0,2])\n",
    "fdx = np.array([1])\n",
    "\n",
    "for i in range(4):\n",
    "  buildAndFit(cdx, fdx, len(cdx), len(fdx), i)"
   ]
  },
  {
   "cell_type": "markdown",
   "metadata": {
    "id": "FtHDgc9-V12q"
   },
   "source": [
    "Again, in the two cells below, we can see that the petal lengths and widths are smaller in Setosa Irses than in Virginica Irises.  This creates a clear boundary for these samples between Setosa and Virginica as well as Setosa and Versicolors."
   ]
  },
  {
   "cell_type": "code",
   "execution_count": 179,
   "metadata": {
    "colab": {
     "base_uri": "https://localhost:8080/",
     "height": 853
    },
    "id": "uEEWpSPIocNL",
    "outputId": "5352e308-7107-4b4c-af2c-c6bb8721d596"
   },
   "outputs": [
    {
     "name": "stdout",
     "output_type": "stream",
     "text": [
      "\n",
      "Loss Function:  hinge \n",
      "Score:  1.0\n"
     ]
    },
    {
     "data": {
      "image/png": "[encoded data removed]",
      "text/plain": [
       "<Figure size 576x144 with 1 Axes>"
      ]
     },
     "metadata": {
      "needs_background": "light"
     },
     "output_type": "display_data"
    },
    {
     "name": "stdout",
     "output_type": "stream",
     "text": [
      "\n",
      "Loss Function:  perceptron \n",
      "Score:  1.0\n"
     ]
    },
    {
     "data": {
      "image/png": "[encoded data removed]",
      "text/plain": [
       "<Figure size 576x144 with 1 Axes>"
      ]
     },
     "metadata": {
      "needs_background": "light"
     },
     "output_type": "display_data"
    },
    {
     "name": "stdout",
     "output_type": "stream",
     "text": [
      "\n",
      "Loss Function:  log \n",
      "Score:  1.0\n"
     ]
    },
    {
     "data": {
      "image/png": "[encoded data removed]",
      "text/plain": [
       "<Figure size 576x144 with 1 Axes>"
      ]
     },
     "metadata": {
      "needs_background": "light"
     },
     "output_type": "display_data"
    },
    {
     "name": "stdout",
     "output_type": "stream",
     "text": [
      "\n",
      "Loss Function:  modified_huber \n",
      "Score:  1.0\n"
     ]
    },
    {
     "data": {
      "image/png": "[encoded data removed]",
      "text/plain": [
       "<Figure size 576x144 with 1 Axes>"
      ]
     },
     "metadata": {
      "needs_background": "light"
     },
     "output_type": "display_data"
    }
   ],
   "source": [
    "# Classes: Setosa, Virginica\n",
    "# Feature: petal length\n",
    "cdx = np.array([0,2])\n",
    "fdx = np.array([2])\n",
    "\n",
    "for i in range(4):\n",
    "  buildAndFit(cdx, fdx, len(cdx), len(fdx), i, True)"
   ]
  },
  {
   "cell_type": "code",
   "execution_count": 180,
   "metadata": {
    "colab": {
     "base_uri": "https://localhost:8080/",
     "height": 853
    },
    "id": "AgdFVtuhofrX",
    "outputId": "8be48757-7f62-4d8a-f303-164d3bb8fb20"
   },
   "outputs": [
    {
     "name": "stdout",
     "output_type": "stream",
     "text": [
      "\n",
      "Loss Function:  hinge \n",
      "Score:  1.0\n"
     ]
    },
    {
     "data": {
      "image/png": "[encoded data removed]",
      "text/plain": [
       "<Figure size 576x144 with 1 Axes>"
      ]
     },
     "metadata": {
      "needs_background": "light"
     },
     "output_type": "display_data"
    },
    {
     "name": "stdout",
     "output_type": "stream",
     "text": [
      "\n",
      "Loss Function:  perceptron \n",
      "Score:  1.0\n"
     ]
    },
    {
     "data": {
      "image/png": "[encoded data removed]",
      "text/plain": [
       "<Figure size 576x144 with 1 Axes>"
      ]
     },
     "metadata": {
      "needs_background": "light"
     },
     "output_type": "display_data"
    },
    {
     "name": "stdout",
     "output_type": "stream",
     "text": [
      "\n",
      "Loss Function:  log \n",
      "Score:  1.0\n"
     ]
    },
    {
     "data": {
      "image/png": "[encoded data removed]",
      "text/plain": [
       "<Figure size 576x144 with 1 Axes>"
      ]
     },
     "metadata": {
      "needs_background": "light"
     },
     "output_type": "display_data"
    },
    {
     "name": "stdout",
     "output_type": "stream",
     "text": [
      "\n",
      "Loss Function:  modified_huber \n",
      "Score:  1.0\n"
     ]
    },
    {
     "data": {
      "image/png": "[encoded data removed]",
      "text/plain": [
       "<Figure size 576x144 with 1 Axes>"
      ]
     },
     "metadata": {
      "needs_background": "light"
     },
     "output_type": "display_data"
    }
   ],
   "source": [
    "# Classes: Setosa, Virginica\n",
    "# Feature: petal width\n",
    "cdx = np.array([0,2])\n",
    "fdx = np.array([3])\n",
    "\n",
    "for i in range(4):\n",
    "  buildAndFit(cdx, fdx, len(cdx), len(fdx), i, True)"
   ]
  },
  {
   "cell_type": "code",
   "execution_count": 136,
   "metadata": {
    "colab": {
     "base_uri": "https://localhost:8080/"
    },
    "id": "as4wXlwQpPPM",
    "outputId": "98469e43-5512-4ed5-b7f1-22ea923629ff"
   },
   "outputs": [
    {
     "name": "stdout",
     "output_type": "stream",
     "text": [
      "\n",
      "Loss Function:  hinge \n",
      "Score:  0.99\n",
      "\n",
      "Loss Function:  perceptron \n",
      "Score:  0.99\n",
      "\n",
      "Loss Function:  log \n",
      "Score:  0.97\n",
      "\n",
      "Loss Function:  modified_huber \n",
      "Score:  0.97\n"
     ]
    }
   ],
   "source": [
    "# Classes: Setosa, Virginica\n",
    "# Features: sepal length, sepal width\n",
    "cdx = np.array([0,2])\n",
    "fdx = np.array([0,1])\n",
    "\n",
    "for i in range(4):\n",
    "  buildAndFit(cdx, fdx, len(cdx), len(fdx), i)"
   ]
  },
  {
   "cell_type": "code",
   "execution_count": 137,
   "metadata": {
    "colab": {
     "base_uri": "https://localhost:8080/"
    },
    "id": "RALV-9kFuAYD",
    "outputId": "f6ba8c4e-72cf-4488-af53-2bec00392c40"
   },
   "outputs": [
    {
     "name": "stdout",
     "output_type": "stream",
     "text": [
      "\n",
      "Loss Function:  hinge \n",
      "Score:  1.0\n",
      "\n",
      "Loss Function:  perceptron \n",
      "Score:  1.0\n",
      "\n",
      "Loss Function:  log \n",
      "Score:  1.0\n",
      "\n",
      "Loss Function:  modified_huber \n",
      "Score:  1.0\n"
     ]
    }
   ],
   "source": [
    "# Classes: Setosa, Virginica\n",
    "# Features: sepal length, petal length\n",
    "cdx = np.array([0,2])\n",
    "fdx = np.array([0,2])\n",
    "\n",
    "for i in range(4):\n",
    "  buildAndFit(cdx, fdx, len(cdx), len(fdx), i)"
   ]
  },
  {
   "cell_type": "code",
   "execution_count": 138,
   "metadata": {
    "colab": {
     "base_uri": "https://localhost:8080/"
    },
    "id": "UWrxcsTmuF2p",
    "outputId": "dbcdad61-8607-4d63-f4e3-7382b064344c"
   },
   "outputs": [
    {
     "name": "stdout",
     "output_type": "stream",
     "text": [
      "\n",
      "Loss Function:  hinge \n",
      "Score:  1.0\n",
      "\n",
      "Loss Function:  perceptron \n",
      "Score:  1.0\n",
      "\n",
      "Loss Function:  log \n",
      "Score:  1.0\n",
      "\n",
      "Loss Function:  modified_huber \n",
      "Score:  1.0\n"
     ]
    }
   ],
   "source": [
    "# Classes: Setosa, Virginica\n",
    "# Features: sepal length, petal width\n",
    "cdx = np.array([0,2])\n",
    "fdx = np.array([0,3])\n",
    "\n",
    "for i in range(4):\n",
    "  buildAndFit(cdx, fdx, len(cdx), len(fdx), i)"
   ]
  },
  {
   "cell_type": "code",
   "execution_count": 139,
   "metadata": {
    "colab": {
     "base_uri": "https://localhost:8080/"
    },
    "id": "DbZHyfJtuKy4",
    "outputId": "e9abe659-1f89-4c79-ce86-03fa756d689c"
   },
   "outputs": [
    {
     "name": "stdout",
     "output_type": "stream",
     "text": [
      "\n",
      "Loss Function:  hinge \n",
      "Score:  1.0\n",
      "\n",
      "Loss Function:  perceptron \n",
      "Score:  1.0\n",
      "\n",
      "Loss Function:  log \n",
      "Score:  1.0\n",
      "\n",
      "Loss Function:  modified_huber \n",
      "Score:  1.0\n"
     ]
    }
   ],
   "source": [
    "# Classes: Setosa, Virginica\n",
    "# Features: sepal width, petal length\n",
    "cdx = np.array([0,2])\n",
    "fdx = np.array([1,2])\n",
    "\n",
    "for i in range(4):\n",
    "  buildAndFit(cdx, fdx, len(cdx), len(fdx), i)"
   ]
  },
  {
   "cell_type": "code",
   "execution_count": 140,
   "metadata": {
    "colab": {
     "base_uri": "https://localhost:8080/"
    },
    "id": "-zYCcSIfuP51",
    "outputId": "4c340fe0-f72b-42f5-a7fe-d75897462c18"
   },
   "outputs": [
    {
     "name": "stdout",
     "output_type": "stream",
     "text": [
      "\n",
      "Loss Function:  hinge \n",
      "Score:  1.0\n",
      "\n",
      "Loss Function:  perceptron \n",
      "Score:  1.0\n",
      "\n",
      "Loss Function:  log \n",
      "Score:  1.0\n",
      "\n",
      "Loss Function:  modified_huber \n",
      "Score:  1.0\n"
     ]
    }
   ],
   "source": [
    "# Classes: Setosa, Virginica\n",
    "# Features: sepal width, petal width\n",
    "cdx = np.array([0,2])\n",
    "fdx = np.array([1,3])\n",
    "\n",
    "for i in range(4):\n",
    "  buildAndFit(cdx, fdx, len(cdx), len(fdx), i)"
   ]
  },
  {
   "cell_type": "code",
   "execution_count": 141,
   "metadata": {
    "colab": {
     "base_uri": "https://localhost:8080/"
    },
    "id": "Qk8vv5xduSed",
    "outputId": "ae55e72c-69ab-441e-b76d-d7b035dd27f1"
   },
   "outputs": [
    {
     "name": "stdout",
     "output_type": "stream",
     "text": [
      "\n",
      "Loss Function:  hinge \n",
      "Score:  1.0\n",
      "\n",
      "Loss Function:  perceptron \n",
      "Score:  1.0\n",
      "\n",
      "Loss Function:  log \n",
      "Score:  1.0\n",
      "\n",
      "Loss Function:  modified_huber \n",
      "Score:  1.0\n"
     ]
    }
   ],
   "source": [
    "# Classes: Setosa, Virginica\n",
    "# Features: petal length, petal width\n",
    "cdx = np.array([0,2])\n",
    "fdx = np.array([2,3])\n",
    "\n",
    "for i in range(4):\n",
    "  buildAndFit(cdx, fdx, len(cdx), len(fdx), i)"
   ]
  },
  {
   "cell_type": "code",
   "execution_count": 142,
   "metadata": {
    "colab": {
     "base_uri": "https://localhost:8080/"
    },
    "id": "sUOeeg-quZRX",
    "outputId": "a3093ca4-f464-44a6-b971-81aea21997df"
   },
   "outputs": [
    {
     "name": "stdout",
     "output_type": "stream",
     "text": [
      "\n",
      "Loss Function:  hinge \n",
      "Score:  1.0\n",
      "\n",
      "Loss Function:  perceptron \n",
      "Score:  1.0\n",
      "\n",
      "Loss Function:  log \n",
      "Score:  1.0\n",
      "\n",
      "Loss Function:  modified_huber \n",
      "Score:  1.0\n"
     ]
    }
   ],
   "source": [
    "# Classes: Setosa, Virginica\n",
    "# Features: sepal length, sepal width, petal length\n",
    "cdx = np.array([0,2])\n",
    "fdx = np.array([0,1,2])\n",
    "\n",
    "for i in range(4):\n",
    "  buildAndFit(cdx, fdx, len(cdx), len(fdx), i)"
   ]
  },
  {
   "cell_type": "code",
   "execution_count": 143,
   "metadata": {
    "colab": {
     "base_uri": "https://localhost:8080/"
    },
    "id": "TaSaoonYuevg",
    "outputId": "117b4379-dfdf-492f-944f-fdb813d37e07"
   },
   "outputs": [
    {
     "name": "stdout",
     "output_type": "stream",
     "text": [
      "\n",
      "Loss Function:  hinge \n",
      "Score:  1.0\n",
      "\n",
      "Loss Function:  perceptron \n",
      "Score:  1.0\n",
      "\n",
      "Loss Function:  log \n",
      "Score:  1.0\n",
      "\n",
      "Loss Function:  modified_huber \n",
      "Score:  1.0\n"
     ]
    }
   ],
   "source": [
    "# Classes: Setosa, Virginica\n",
    "# Features: sepal width, petal length, petal width\n",
    "cdx = np.array([0,2])\n",
    "fdx = np.array([1,2,3])\n",
    "\n",
    "for i in range(4):\n",
    "  buildAndFit(cdx, fdx, len(cdx), len(fdx), i)"
   ]
  },
  {
   "cell_type": "code",
   "execution_count": 144,
   "metadata": {
    "colab": {
     "base_uri": "https://localhost:8080/"
    },
    "id": "9RL3wRuyuj0Q",
    "outputId": "da8646ee-b90b-46ce-9d02-2e70c291e58f"
   },
   "outputs": [
    {
     "name": "stdout",
     "output_type": "stream",
     "text": [
      "\n",
      "Loss Function:  hinge \n",
      "Score:  1.0\n",
      "\n",
      "Loss Function:  perceptron \n",
      "Score:  1.0\n",
      "\n",
      "Loss Function:  log \n",
      "Score:  1.0\n",
      "\n",
      "Loss Function:  modified_huber \n",
      "Score:  1.0\n"
     ]
    }
   ],
   "source": [
    "# Classes: Setosa, Virginica\n",
    "# Features: sepal length, petal length, petal width\n",
    "\n",
    "cdx = np.array([0,2])\n",
    "fdx = np.array([0,2,3])\n",
    "\n",
    "for i in range(4):\n",
    "  buildAndFit(cdx, fdx, len(cdx), len(fdx), i)"
   ]
  },
  {
   "cell_type": "code",
   "execution_count": 145,
   "metadata": {
    "colab": {
     "base_uri": "https://localhost:8080/"
    },
    "id": "qe5-zHs3up6j",
    "outputId": "8221fd97-941e-4e84-9eeb-43b15dc70715"
   },
   "outputs": [
    {
     "name": "stdout",
     "output_type": "stream",
     "text": [
      "\n",
      "Loss Function:  hinge \n",
      "Score:  1.0\n",
      "\n",
      "Loss Function:  perceptron \n",
      "Score:  1.0\n",
      "\n",
      "Loss Function:  log \n",
      "Score:  1.0\n",
      "\n",
      "Loss Function:  modified_huber \n",
      "Score:  1.0\n"
     ]
    }
   ],
   "source": [
    "# Classes: Setosa, Virginica\n",
    "# Features: sepal length, sepal width, petal width\n",
    "\n",
    "cdx = np.array([0,2])\n",
    "fdx = np.array([0,1,3])\n",
    "\n",
    "for i in range(4):\n",
    "  buildAndFit(cdx, fdx, len(cdx), len(fdx), i)"
   ]
  },
  {
   "cell_type": "code",
   "execution_count": 181,
   "metadata": {
    "colab": {
     "base_uri": "https://localhost:8080/"
    },
    "id": "Gy8uAzKWvEW-",
    "outputId": "ad32e35b-e4b2-4eb5-dd11-9b5c670b8fff"
   },
   "outputs": [
    {
     "name": "stdout",
     "output_type": "stream",
     "text": [
      "\n",
      "Loss Function:  hinge \n",
      "Score:  1.0\n",
      "\n",
      "Loss Function:  perceptron \n",
      "Score:  1.0\n",
      "\n",
      "Loss Function:  log \n",
      "Score:  1.0\n",
      "\n",
      "Loss Function:  modified_huber \n",
      "Score:  1.0\n"
     ]
    }
   ],
   "source": [
    "# TODO: I want graph!!!!!  And also write a lil analysis\n",
    "# Classes: Setosa, Virginica\n",
    "# Features: sepal length, sepal width, petal length, petal width\n",
    "\n",
    "cdx = np.array([0,2])\n",
    "fdx = np.array([0,1,2,3])\n",
    "\n",
    "for i in range(4):\n",
    "  buildAndFit(cdx, fdx, len(cdx), len(fdx), i, True)"
   ]
  },
  {
   "cell_type": "code",
   "execution_count": 183,
   "metadata": {
    "colab": {
     "base_uri": "https://localhost:8080/",
     "height": 853
    },
    "id": "USpb88IvvLxi",
    "outputId": "9760afa4-999e-445e-ff41-eb6100f5fadb"
   },
   "outputs": [
    {
     "name": "stdout",
     "output_type": "stream",
     "text": [
      "\n",
      "Loss Function:  hinge \n",
      "Score:  0.51\n"
     ]
    },
    {
     "data": {
      "image/png": "[encoded data removed]",
      "text/plain": [
       "<Figure size 576x144 with 1 Axes>"
      ]
     },
     "metadata": {
      "needs_background": "light"
     },
     "output_type": "display_data"
    },
    {
     "name": "stdout",
     "output_type": "stream",
     "text": [
      "\n",
      "Loss Function:  perceptron \n",
      "Score:  0.5\n"
     ]
    },
    {
     "data": {
      "image/png": "[encoded data removed]",
      "text/plain": [
       "<Figure size 576x144 with 1 Axes>"
      ]
     },
     "metadata": {
      "needs_background": "light"
     },
     "output_type": "display_data"
    },
    {
     "name": "stdout",
     "output_type": "stream",
     "text": [
      "\n",
      "Loss Function:  log \n",
      "Score:  0.57\n"
     ]
    },
    {
     "data": {
      "image/png": "[encoded data removed]",
      "text/plain": [
       "<Figure size 576x144 with 1 Axes>"
      ]
     },
     "metadata": {
      "needs_background": "light"
     },
     "output_type": "display_data"
    },
    {
     "name": "stdout",
     "output_type": "stream",
     "text": [
      "\n",
      "Loss Function:  modified_huber \n",
      "Score:  0.66\n"
     ]
    },
    {
     "data": {
      "image/png": "[encoded data removed]",
      "text/plain": [
       "<Figure size 576x144 with 1 Axes>"
      ]
     },
     "metadata": {
      "needs_background": "light"
     },
     "output_type": "display_data"
    }
   ],
   "source": [
    "# TODO: analyze this!!!\n",
    "# Classes: Versicolors, Virginica\n",
    "# Feature: sepal length\n",
    "\n",
    "cdx = np.array([1,2])\n",
    "fdx = np.array([0])\n",
    "\n",
    "for i in range(4):\n",
    "  buildAndFit(cdx, fdx, len(cdx), len(fdx), i, True)"
   ]
  },
  {
   "cell_type": "code",
   "execution_count": 148,
   "metadata": {
    "colab": {
     "base_uri": "https://localhost:8080/"
    },
    "id": "ICt6C771vSPV",
    "outputId": "a8299c1e-9d8c-4da1-e00a-e9ef0cf25555"
   },
   "outputs": [
    {
     "name": "stdout",
     "output_type": "stream",
     "text": [
      "\n",
      "Loss Function:  hinge \n",
      "Score:  0.6\n",
      "\n",
      "Loss Function:  perceptron \n",
      "Score:  0.59\n",
      "\n",
      "Loss Function:  log \n",
      "Score:  0.6\n",
      "\n",
      "Loss Function:  modified_huber \n",
      "Score:  0.58\n"
     ]
    }
   ],
   "source": [
    "# Classes: Versicolors, Virginica\n",
    "# Feature: sepal width\n",
    "\n",
    "cdx = np.array([1,2])\n",
    "fdx = np.array([1])\n",
    "\n",
    "for i in range(4):\n",
    "  buildAndFit(cdx, fdx, len(cdx), len(fdx), i)"
   ]
  },
  {
   "cell_type": "code",
   "execution_count": 149,
   "metadata": {
    "colab": {
     "base_uri": "https://localhost:8080/"
    },
    "id": "RSpOXa9gvW6F",
    "outputId": "38ec98ec-5b17-4fbb-81b5-341d594dcea4"
   },
   "outputs": [
    {
     "name": "stdout",
     "output_type": "stream",
     "text": [
      "\n",
      "Loss Function:  hinge \n",
      "Score:  0.84\n",
      "\n",
      "Loss Function:  perceptron \n",
      "Score:  0.75\n",
      "\n",
      "Loss Function:  log \n",
      "Score:  0.93\n",
      "\n",
      "Loss Function:  modified_huber \n",
      "Score:  0.84\n"
     ]
    }
   ],
   "source": [
    "# Classes: Versicolors, Virginica\n",
    "# Feature: petal length\n",
    "\n",
    "cdx = np.array([1,2])\n",
    "fdx = np.array([2])\n",
    "\n",
    "for i in range(4):\n",
    "  buildAndFit(cdx, fdx, len(cdx), len(fdx), i)"
   ]
  },
  {
   "cell_type": "code",
   "execution_count": 150,
   "metadata": {
    "colab": {
     "base_uri": "https://localhost:8080/"
    },
    "id": "fAcrZtCVvaEh",
    "outputId": "a4761cb6-525c-4957-c150-44e95af3afb0"
   },
   "outputs": [
    {
     "name": "stdout",
     "output_type": "stream",
     "text": [
      "\n",
      "Loss Function:  hinge \n",
      "Score:  0.84\n",
      "\n",
      "Loss Function:  perceptron \n",
      "Score:  0.94\n",
      "\n",
      "Loss Function:  log \n",
      "Score:  0.94\n",
      "\n",
      "Loss Function:  modified_huber \n",
      "Score:  0.94\n"
     ]
    }
   ],
   "source": [
    "# Classes: Versicolors, Virginica\n",
    "# Feature: petal width\n",
    "\n",
    "cdx = np.array([1,2])\n",
    "fdx = np.array([3])\n",
    "\n",
    "for i in range(4):\n",
    "  buildAndFit(cdx, fdx, len(cdx), len(fdx), i)"
   ]
  },
  {
   "cell_type": "code",
   "execution_count": 184,
   "metadata": {
    "colab": {
     "base_uri": "https://localhost:8080/",
     "height": 703
    },
    "id": "Zi4kJPa6vcg3",
    "outputId": "be320156-52e6-490e-8af6-11991a147cf3"
   },
   "outputs": [
    {
     "name": "stdout",
     "output_type": "stream",
     "text": [
      "\n",
      "Loss Function:  hinge \n",
      "Score:  0.74\n",
      "\n",
      "Loss Function:  perceptron \n",
      "Score:  0.74\n",
      "\n",
      "Loss Function:  log \n",
      "Score:  0.57\n",
      "\n",
      "Loss Function:  modified_huber \n",
      "Score:  0.74\n"
     ]
    },
    {
     "data": {
      "image/png": "[encoded data removed]",
      "text/plain": [
       "<Figure size 576x576 with 1 Axes>"
      ]
     },
     "metadata": {
      "needs_background": "light"
     },
     "output_type": "display_data"
    }
   ],
   "source": [
    "# TODO: I want better graph!!! Also, I want to put to words how this doesnt greatly depreciate the\n",
    "# accuracy in the combinations of features\n",
    "# Classes: Versicolors, Virginica\n",
    "# Features: sepal length, sepal width\n",
    "\n",
    "cdx = np.array([1,2])\n",
    "fdx = np.array([0,1])\n",
    "\n",
    "for i in range(4):\n",
    "  buildAndFit(cdx, fdx, len(cdx), len(fdx), i, True)"
   ]
  },
  {
   "cell_type": "code",
   "execution_count": 152,
   "metadata": {
    "colab": {
     "base_uri": "https://localhost:8080/"
    },
    "id": "vh9Edrv1vl6k",
    "outputId": "e4114f4f-d96f-4719-e797-36e562f4a71f"
   },
   "outputs": [
    {
     "name": "stdout",
     "output_type": "stream",
     "text": [
      "\n",
      "Loss Function:  hinge \n",
      "Score:  0.92\n",
      "\n",
      "Loss Function:  perceptron \n",
      "Score:  0.94\n",
      "\n",
      "Loss Function:  log \n",
      "Score:  0.9\n",
      "\n",
      "Loss Function:  modified_huber \n",
      "Score:  0.83\n"
     ]
    }
   ],
   "source": [
    "# Classes: Versicolors, Virginica\n",
    "# Features: sepal length, petal length\n",
    "\n",
    "cdx = np.array([1,2])\n",
    "fdx = np.array([0,2])\n",
    "\n",
    "for i in range(4):\n",
    "  buildAndFit(cdx, fdx, len(cdx), len(fdx), i)"
   ]
  },
  {
   "cell_type": "code",
   "execution_count": 153,
   "metadata": {
    "colab": {
     "base_uri": "https://localhost:8080/"
    },
    "id": "uqX3hhpFvpr1",
    "outputId": "5f28bf13-8a2f-4443-f44d-ccfaadbd17d5"
   },
   "outputs": [
    {
     "name": "stdout",
     "output_type": "stream",
     "text": [
      "\n",
      "Loss Function:  hinge \n",
      "Score:  0.63\n",
      "\n",
      "Loss Function:  perceptron \n",
      "Score:  0.91\n",
      "\n",
      "Loss Function:  log \n",
      "Score:  0.88\n",
      "\n",
      "Loss Function:  modified_huber \n",
      "Score:  0.91\n"
     ]
    }
   ],
   "source": [
    "# Classes: Versicolors, Virginica\n",
    "# Features: sepal length, petal width\n",
    "\n",
    "cdx = np.array([1,2])\n",
    "fdx = np.array([0,3])\n",
    "\n",
    "for i in range(4):\n",
    "  buildAndFit(cdx, fdx, len(cdx), len(fdx), i)"
   ]
  },
  {
   "cell_type": "code",
   "execution_count": 154,
   "metadata": {
    "colab": {
     "base_uri": "https://localhost:8080/"
    },
    "id": "paYmEaW6vtNv",
    "outputId": "641e96e6-ac9f-4807-fd9d-391cbbcdb4c0"
   },
   "outputs": [
    {
     "name": "stdout",
     "output_type": "stream",
     "text": [
      "\n",
      "Loss Function:  hinge \n",
      "Score:  0.91\n",
      "\n",
      "Loss Function:  perceptron \n",
      "Score:  0.81\n",
      "\n",
      "Loss Function:  log \n",
      "Score:  0.86\n",
      "\n",
      "Loss Function:  modified_huber \n",
      "Score:  0.74\n"
     ]
    }
   ],
   "source": [
    "# Classes: Versicolors, Virginica\n",
    "# Features: sepal width, petal length\n",
    "\n",
    "cdx = np.array([1,2])\n",
    "fdx = np.array([1,2])\n",
    "\n",
    "for i in range(4):\n",
    "  buildAndFit(cdx, fdx, len(cdx), len(fdx), i)"
   ]
  },
  {
   "cell_type": "code",
   "execution_count": 155,
   "metadata": {
    "colab": {
     "base_uri": "https://localhost:8080/"
    },
    "id": "SLogqlYdvzSn",
    "outputId": "cbcef8ab-e7e2-4a9d-e3a2-52c9fe271cae"
   },
   "outputs": [
    {
     "name": "stdout",
     "output_type": "stream",
     "text": [
      "\n",
      "Loss Function:  hinge \n",
      "Score:  0.87\n",
      "\n",
      "Loss Function:  perceptron \n",
      "Score:  0.87\n",
      "\n",
      "Loss Function:  log \n",
      "Score:  0.92\n",
      "\n",
      "Loss Function:  modified_huber \n",
      "Score:  0.92\n"
     ]
    }
   ],
   "source": [
    "# Classes: Versicolors, Virginica\n",
    "# Features: sepal width, petal width\n",
    "\n",
    "cdx = np.array([1,2])\n",
    "fdx = np.array([1,3])\n",
    "\n",
    "for i in range(4):\n",
    "  buildAndFit(cdx, fdx, len(cdx), len(fdx), i)"
   ]
  },
  {
   "cell_type": "code",
   "execution_count": 156,
   "metadata": {
    "colab": {
     "base_uri": "https://localhost:8080/"
    },
    "id": "aMXltVI1v2mB",
    "outputId": "23fd80d8-cdbd-48ab-9d31-166a54ba7409"
   },
   "outputs": [
    {
     "name": "stdout",
     "output_type": "stream",
     "text": [
      "\n",
      "Loss Function:  hinge \n",
      "Score:  0.9\n",
      "\n",
      "Loss Function:  perceptron \n",
      "Score:  0.95\n",
      "\n",
      "Loss Function:  log \n",
      "Score:  0.78\n",
      "\n",
      "Loss Function:  modified_huber \n",
      "Score:  0.75\n"
     ]
    }
   ],
   "source": [
    "# Classes: Versicolors, Virginica\n",
    "# Features: petal length, petal width\n",
    "\n",
    "cdx = np.array([1,2])\n",
    "fdx = np.array([2,3])\n",
    "\n",
    "for i in range(4):\n",
    "  buildAndFit(cdx, fdx, len(cdx), len(fdx), i)"
   ]
  },
  {
   "cell_type": "code",
   "execution_count": 157,
   "metadata": {
    "colab": {
     "base_uri": "https://localhost:8080/"
    },
    "id": "eJVcrsEtv_tm",
    "outputId": "3652c126-b592-40fe-c889-6f096c4988c0"
   },
   "outputs": [
    {
     "name": "stdout",
     "output_type": "stream",
     "text": [
      "\n",
      "Loss Function:  hinge \n",
      "Score:  0.89\n",
      "\n",
      "Loss Function:  perceptron \n",
      "Score:  0.87\n",
      "\n",
      "Loss Function:  log \n",
      "Score:  0.86\n",
      "\n",
      "Loss Function:  modified_huber \n",
      "Score:  0.9\n"
     ]
    }
   ],
   "source": [
    "# Classes: Versicolors, Virginica\n",
    "# Features: sepal length, sepal width, petal length\n",
    "\n",
    "cdx = np.array([1,2])\n",
    "fdx = np.array([0,1,2])\n",
    "\n",
    "for i in range(4):\n",
    "  buildAndFit(cdx, fdx, len(cdx), len(fdx), i)"
   ]
  },
  {
   "cell_type": "code",
   "execution_count": 158,
   "metadata": {
    "colab": {
     "base_uri": "https://localhost:8080/"
    },
    "id": "Ngk28eJAwF7N",
    "outputId": "4ac61ff8-483d-4d0f-cafa-754f0202dbd4"
   },
   "outputs": [
    {
     "name": "stdout",
     "output_type": "stream",
     "text": [
      "\n",
      "Loss Function:  hinge \n",
      "Score:  0.9\n",
      "\n",
      "Loss Function:  perceptron \n",
      "Score:  0.94\n",
      "\n",
      "Loss Function:  log \n",
      "Score:  0.9\n",
      "\n",
      "Loss Function:  modified_huber \n",
      "Score:  0.95\n"
     ]
    }
   ],
   "source": [
    "# Classes: Versicolors, Virginica\n",
    "# Features: sepal width, petal length, petal width\n",
    "\n",
    "cdx = np.array([1,2])\n",
    "fdx = np.array([1,2,3])\n",
    "\n",
    "for i in range(4):\n",
    "  buildAndFit(cdx, fdx, len(cdx), len(fdx), i)"
   ]
  },
  {
   "cell_type": "code",
   "execution_count": 159,
   "metadata": {
    "colab": {
     "base_uri": "https://localhost:8080/"
    },
    "id": "_oYjPtOvwK5n",
    "outputId": "3e7856df-5dfd-4c4f-f01b-7b7c22ae4ed4"
   },
   "outputs": [
    {
     "name": "stdout",
     "output_type": "stream",
     "text": [
      "\n",
      "Loss Function:  hinge \n",
      "Score:  0.91\n",
      "\n",
      "Loss Function:  perceptron \n",
      "Score:  0.95\n",
      "\n",
      "Loss Function:  log \n",
      "Score:  0.81\n",
      "\n",
      "Loss Function:  modified_huber \n",
      "Score:  0.93\n"
     ]
    }
   ],
   "source": [
    "# Classes: Versicolors, Virginica\n",
    "# Features: sepal length, sepal width, petal width\n",
    "\n",
    "cdx = np.array([1,2])\n",
    "fdx = np.array([0,1,3])\n",
    "\n",
    "for i in range(4):\n",
    "  buildAndFit(cdx, fdx, len(cdx), len(fdx), i)"
   ]
  },
  {
   "cell_type": "code",
   "execution_count": 160,
   "metadata": {
    "colab": {
     "base_uri": "https://localhost:8080/"
    },
    "id": "7alhaY2lwYpa",
    "outputId": "eddf078b-e8e0-401c-a504-bdf7dfeb7155"
   },
   "outputs": [
    {
     "name": "stdout",
     "output_type": "stream",
     "text": [
      "\n",
      "Loss Function:  hinge \n",
      "Score:  0.75\n",
      "\n",
      "Loss Function:  perceptron \n",
      "Score:  0.85\n",
      "\n",
      "Loss Function:  log \n",
      "Score:  0.96\n",
      "\n",
      "Loss Function:  modified_huber \n",
      "Score:  0.95\n"
     ]
    }
   ],
   "source": [
    "# Classes: Versicolors, Virginica\n",
    "# Features: sepal length, petal length, petal width\n",
    "\n",
    "cdx = np.array([1,2])\n",
    "fdx = np.array([0,2,3])\n",
    "\n",
    "for i in range(4):\n",
    "  buildAndFit(cdx, fdx, len(cdx), len(fdx), i)"
   ]
  },
  {
   "cell_type": "code",
   "execution_count": 161,
   "metadata": {
    "colab": {
     "base_uri": "https://localhost:8080/"
    },
    "id": "rbO0oQl6wOaG",
    "outputId": "38bdd421-be4d-4ab9-cc22-3f49428bf41a"
   },
   "outputs": [
    {
     "name": "stdout",
     "output_type": "stream",
     "text": [
      "\n",
      "Loss Function:  hinge \n",
      "Score:  0.83\n",
      "\n",
      "Loss Function:  perceptron \n",
      "Score:  0.83\n",
      "\n",
      "Loss Function:  log \n",
      "Score:  0.9\n",
      "\n",
      "Loss Function:  modified_huber \n",
      "Score:  0.96\n"
     ]
    }
   ],
   "source": [
    "# Classes: Versicolors, Virginica\n",
    "# Features: sepal length, sepal width, petal length, petal width\n",
    "\n",
    "cdx = np.array([1,2])\n",
    "fdx = np.array([0,1,2,3])\n",
    "\n",
    "for i in range(4):\n",
    "  buildAndFit(cdx, fdx, len(cdx), len(fdx), i)\n",
    "\n"
   ]
  }
 ],
 "metadata": {
  "anaconda-cloud": {},
  "colab": {
   "collapsed_sections": [],
   "name": "Perls_Viviana_AS02.ipynb",
   "provenance": []
  },
  "kernelspec": {
   "display_name": "Python 3 (ipykernel)",
   "language": "python",
   "name": "python3"
  },
  "language_info": {
   "codemirror_mode": {
    "name": "ipython",
    "version": 3
   },
   "file_extension": ".py",
   "mimetype": "text/x-python",
   "name": "python",
   "nbconvert_exporter": "python",
   "pygments_lexer": "ipython3",
   "version": "3.9.7"
  }
 },
 "nbformat": 4,
 "nbformat_minor": 1
}
