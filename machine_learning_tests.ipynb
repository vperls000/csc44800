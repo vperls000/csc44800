{
  "cells": [
    {
      "cell_type": "markdown",
      "metadata": {
        "id": "gZT0PBpf9h5i"
      },
      "source": [
        "![meme](https://images.ctfassets.net/be04ylp8y0qc/1AYDDqzqoLNU7GyvMOLlTL/146ab0e8b96a25c1b3538a2929dae646/meme_6cce0f3bba63820b84f52ce05a822975_800.png?fm=jpg)"
      ]
    },
    {
      "cell_type": "code",
      "execution_count": null,
      "metadata": {
        "id": "Hg-zwktL9h5m"
      },
      "outputs": [],
      "source": [
        "import numpy as np\n",
        "import matplotlib.pyplot as plt \n",
        "from mpl_toolkits import mplot3d\n",
        "from sklearn import datasets\n",
        "from sklearn.linear_model import Perceptron\n",
        "from sklearn.linear_model import SGDClassifier"
      ]
    },
    {
      "cell_type": "markdown",
      "metadata": {
        "id": "v9XtyEARYTBH"
      },
      "source": [
        "Above I am importing libraries"
      ]
    },
    {
      "cell_type": "code",
      "execution_count": null,
      "metadata": {
        "id": "iZBG89479h5o",
        "scrolled": false
      },
      "outputs": [],
      "source": [
        "iris = datasets.load_iris()\n",
        "X = iris.data\n",
        "Y = iris.target\n",
        "Xzeros0 = (0. * X) + .2\n",
        "Xzeros1 = (0. * X) \n",
        "Xzeros2 = (0. * X) - .2\n",
        "x_min, x_max = X.min() - 0.5, X.max() + 1.5"
      ]
    },
    {
      "cell_type": "markdown",
      "metadata": {
        "id": "q9f8aaVTYTBN"
      },
      "source": [
        "Import Iris datasets ^"
      ]
    },
    {
      "cell_type": "code",
      "execution_count": null,
      "metadata": {
        "colab": {
          "base_uri": "https://localhost:8080/"
        },
        "id": "bBvY5KTp9h5s",
        "outputId": "23df175a-63a9-409f-8bc8-34fce896d376"
      },
      "outputs": [
        {
          "name": "stdout",
          "output_type": "stream",
          "text": [
            "0 o Setosa red pink\n",
            "1 x Versicolor blue lightblue\n",
            "2 * Virginica green lightgreen\n"
          ]
        }
      ],
      "source": [
        "IC = np.unique(Y)\n",
        "IrisC = ('Setosa','Versicolor','Virginica')\n",
        "pltC = ('red', 'blue', 'green')\n",
        "pltCback = ('pink', 'lightblue','lightgreen')\n",
        "pltM = ('o', 'x', '*')\n",
        "for i in range(0,3):\n",
        "    print (IC[i],pltM[i],IrisC[i],pltC[i],pltCback[i])\n",
        "          "
      ]
    },
    {
      "cell_type": "markdown",
      "metadata": {
        "id": "vf08ytlrYTBR"
      },
      "source": [
        "Get Iris classifications ^"
      ]
    },
    {
      "cell_type": "code",
      "execution_count": null,
      "metadata": {
        "id": "KS0xBmth9h5u"
      },
      "outputs": [],
      "source": [
        "IrisF=(\"sepal length (cm)\", \"sepal width (cm)\", \"petal length (cm)\", \"petal width (cm)\")"
      ]
    },
    {
      "cell_type": "code",
      "execution_count": null,
      "metadata": {
        "id": "2pX3bUV_YTBU"
      },
      "outputs": [],
      "source": [
        "Setup Iris feature labels ^"
      ]
    },
    {
      "cell_type": "code",
      "execution_count": null,
      "metadata": {
        "id": "wtva3-bGEAZQ"
      },
      "outputs": [],
      "source": [
        "# The code within this function is largely taken from code by Erik Grimmelmann, but I used\n",
        "# a function instead of recompiling the original cells.  This function will allow me to build the XX and YY arrays, fit the\n",
        "# data, and possibly plot the data as I run through each dataset-model pair.\n",
        "\n",
        "def buildAndFit(cdx, fdx, nC, nF, lfn, plot = False):\n",
        "    i = 0\n",
        "    numY = 0\n",
        "    for i in range(len(Y)):\n",
        "        for j in range(nC):\n",
        "            if Y[i] == IC[cdx[j]]:\n",
        "                numY += 1\n",
        "\n",
        "    YY = np.zeros((numY))\n",
        "    XX = np.zeros((numY,nF))\n",
        "    if (len(fdx) == 1):\n",
        "        XXzeros0 = (0. * XX) + .2\n",
        "        XXzeros1 = (0. * XX) \n",
        "        XXzeros2 = (0. * XX) - .2\n",
        "\n",
        "  \n",
        "    # Fill XX and YY arrays\n",
        "    j = 0\n",
        "    for i in range(len(Y)):\n",
        "        for k in range(nC):\n",
        "            if Y[i] == IC[cdx[k]]:        \n",
        "                YY[j] = IC[cdx[k]]\n",
        "                for m in range(nF):\n",
        "                    XX[j,m] = X[i,fdx[m]] \n",
        "                j += 1\n",
        "\n",
        "    lossfn = ['hinge','perceptron','log','modified_huber']\n",
        "\n",
        "    clf = SGDClassifier(lossfn[lfn],tol=1e-4, random_state=0)\n",
        "    clf.fit(XX,YY)\n",
        "\n",
        "    print('\\nLoss Function: ', lossfn[lfn], '\\nScore: ',clf.score(XX,YY))\n",
        "\n",
        "    if plot:\n",
        "        ## plot data for this pair of features and classes\n",
        "        plt.close('all')\n",
        "\n",
        "        if (nF == 1):\n",
        "        \n",
        "        fig, ax = plt.subplots(figsize=(8,2))\n",
        "        \n",
        "        xx = np.arange(x_min,x_max, 0.05).reshape((-1,1))\n",
        "        yy = clf.predict(xx)\n",
        "        \n",
        "        xxzeros1 = (0. * xx) + .5\n",
        "\n",
        "    # plot the decision regions\n",
        "\n",
        "        if (IC[0] in cdx): ax.scatter(xx[yy == IC[0],0], xxzeros1[yy == IC[0]],\n",
        "                        color=pltC[0], marker='.')\n",
        "        if (IC[1] in cdx): ax.scatter(xx[yy == IC[1],0], xxzeros1[yy == IC[1]],\n",
        "                        color=pltC[1], marker='.')\n",
        "        if (IC[2] in cdx): ax.scatter(xx[yy == IC[2],0], xxzeros1[yy == IC[2]],\n",
        "                        color=pltC[2], marker='.')   \n",
        "\n",
        "    # plot the data\n",
        "\n",
        "        if (IC[0] in cdx): ax.scatter(XX[YY == IC[0],0], XXzeros0[YY == IC[0]],\n",
        "                        color=pltC[0], marker=pltM[0], label=IrisC[0])\n",
        "        if (IC[1] in cdx): ax.scatter(XX[YY == IC[1],0], XXzeros1[YY == IC[1]],\n",
        "                        color=pltC[1], marker=pltM[1], label=IrisC[1])\n",
        "        if (IC[2] in cdx): ax.scatter(XX[YY == IC[2],0], XXzeros2[YY == IC[2]],\n",
        "                        color=pltC[2], marker=pltM[2], label=IrisC[2])    \n",
        "        \n",
        "        ax.set_xlim(x_min,x_max)\n",
        "        ax.set_ylim(-1.,+2.)\n",
        "        ax.set_xlabel(IrisF[fdx[0]])\n",
        "        ax.axes.yaxis.set_visible(False)\n",
        "        ax.legend(loc='upper right', fontsize='x-small')\n",
        "        plt.show()    \n",
        "\n",
        "    elif (nF == 2):\n",
        "        \n",
        "        fig, ax = plt.subplots(figsize=(8,8))\n",
        "\n",
        "        xx1, xx2 = np.meshgrid(np.arange(x_min,x_max,0.05), np.arange(x_min,x_max,0.05))                     \n",
        "        yy = clf.predict(np.c_[xx1.ravel(), xx2.ravel()])\n",
        "        yy = yy.reshape(xx1.shape)\n",
        "\n",
        "    # plot the decision regions    \n",
        "        \n",
        "        if (IC[0] in cdx): ax.scatter(xx1[yy == IC[0]], xx2[yy == IC[0]],\n",
        "                        color=pltCback[0], marker='.')\n",
        "        if (IC[1] in cdx): ax.scatter(xx1[yy == IC[1]], xx2[yy == IC[1]], \n",
        "                        color=pltCback[1], marker='.')\n",
        "        if (IC[2] in cdx): ax.scatter(xx1[yy == IC[2]], xx2[yy == IC[2]],\n",
        "                        color=pltCback[2], marker='.')    \n",
        "\n",
        "    elif (nF == 3):\n",
        "          \n",
        "        ixm = fdx[0]\n",
        "        iym = fdx[1]\n",
        "        izm = fdx[2]\n",
        "        xF = IrisF[ixm]\n",
        "        yF = IrisF[iym]\n",
        "        zF = IrisF[izm]\n",
        "\n",
        "        fig = plt.figure(figsize=(6,6))    \n",
        "        ax = plt.axes(projection='3d')   \n",
        "\n",
        "  # plot the data points\n",
        "\n",
        "    if (IC[0] in cdx): ax.scatter3D(X[Y == IC[0],ixm], X[Y == IC[0],iym], X[Y == IC[0],izm], \n",
        "      color=pltC[0], marker=pltM[0], label=IrisC[0])\n",
        "    if (IC[1] in cdx): ax.scatter3D(X[Y == IC[1],ixm], X[Y == IC[1],iym], X[Y == IC[1],izm], \n",
        "      color=pltC[1], marker=pltM[1], label=IrisC[1])\n",
        "    if (IC[2] in cdx): ax.scatter3D(X[Y == IC[2],ixm], X[Y == IC[2],iym], X[Y == IC[2],izm], \n",
        "      color=pltC[2], marker=pltM[2], label=IrisC[2])    \n",
        "\n",
        "    ax.set_xlim(x_min,x_max)\n",
        "    ax.set_ylim(x_min,x_max)\n",
        "    ax.set_zlim(x_min,x_max)\n",
        "    ax.set_xlabel(xF)\n",
        "    ax.set_ylabel(yF)\n",
        "    ax.set_zlabel(zF)            \n",
        "    ax.legend(loc='upper right', fontsize='small')\n",
        "    plt.show() \n",
        "      \n",
        "  # if there are two classes, add the decision boundary and plot again\n",
        "              \n",
        "    A = clf.fit(XX,YY)\n",
        "    Acl =  A.classes_\n",
        "    if (len(Acl) == 2):  \n",
        "          \n",
        "        fig = plt.figure(figsize=(6,6))    \n",
        "        ax = plt.axes(projection='3d')   \n",
        "\n",
        "      # plot the data points\n",
        "\n",
        "        if (IC[0] in cdx): ax.scatter3D(X[Y == IC[0],ixm], X[Y == IC[0],iym], X[Y == IC[0],izm], \n",
        "              color=pltC[0], marker=pltM[0], label=IrisC[0])\n",
        "        if (IC[1] in cdx): ax.scatter3D(X[Y == IC[1],ixm], X[Y == IC[1],iym], X[Y == IC[1],izm], \n",
        "              color=pltC[1], marker=pltM[1], label=IrisC[1])\n",
        "        if (IC[2] in cdx): ax.scatter3D(X[Y == IC[2],ixm], X[Y == IC[2],iym], X[Y == IC[2],izm], \n",
        "              color=pltC[2], marker=pltM[2], label=IrisC[2])    \n",
        "\n",
        "        \n",
        "        Ai = A.intercept_\n",
        "        Acoef = A.coef_\n",
        "        xgrid = np.arange(x_min,x_max,0.05)       \n",
        "        nx = len(xgrid)\n",
        "        for i in range(nx):\n",
        "            for j in range(nx):\n",
        "                z = -(Acoef[0,0]*xgrid[i]+Acoef[0,1]*xgrid[j]+Ai[0])/Acoef[0,2]\n",
        "                if ((z>=x_min)&(z<=x_max)): ax.scatter3D(xgrid[i],xgrid[j],z,marker='.',color='lightgray')\n",
        "\n",
        "        ax.set_xlim(x_min,x_max)\n",
        "        ax.set_ylim(x_min,x_max)\n",
        "        ax.set_zlim(x_min,x_max)\n",
        "        ax.set_xlabel(xF)\n",
        "        ax.set_ylabel(yF)\n",
        "        ax.set_zlabel(zF)            \n",
        "        ax.legend(loc='upper right', fontsize='small')\n",
        "        plt.show()         "
      ]
    },
    {
      "cell_type": "code",
      "execution_count": null,
      "metadata": {
        "colab": {
          "base_uri": "https://localhost:8080/",
          "height": 853
        },
        "id": "v-YDRUfr9h56",
        "outputId": "f9c7c183-8c0a-499b-9bdd-79793036a0b3"
      },
      "outputs": [
        {
          "name": "stdout",
          "output_type": "stream",
          "text": [
            "\n",
            "Loss Function:  hinge \n",
            "Score:  0.68\n"
          ]
        },
        {
          "data": {
            "image/png": "[encoded data removed]",
            "text/plain": [
              "<Figure size 576x144 with 1 Axes>"
            ]
          },
          "metadata": {
            "needs_background": "light"
          },
          "output_type": "display_data"
        },
        {
          "name": "stdout",
          "output_type": "stream",
          "text": [
            "\n",
            "Loss Function:  perceptron \n",
            "Score:  0.5533333333333333\n"
          ]
        },
        {
          "data": {
            "image/png": "[encoded data removed]",
            "text/plain": [
              "<Figure size 576x144 with 1 Axes>"
            ]
          },
          "metadata": {
            "needs_background": "light"
          },
          "output_type": "display_data"
        },
        {
          "name": "stdout",
          "output_type": "stream",
          "text": [
            "\n",
            "Loss Function:  log \n",
            "Score:  0.6733333333333333\n"
          ]
        },
        {
          "data": {
            "image/png": "[encoded data removed]",
            "text/plain": [
              "<Figure size 576x144 with 1 Axes>"
            ]
          },
          "metadata": {
            "needs_background": "light"
          },
          "output_type": "display_data"
        },
        {
          "name": "stdout",
          "output_type": "stream",
          "text": [
            "\n",
            "Loss Function:  modified_huber \n",
            "Score:  0.3333333333333333\n"
          ]
        },
        {
          "data": {
            "image/png": "[encoded data removed]",
            "text/plain": [
              "<Figure size 576x144 with 1 Axes>"
            ]
          },
          "metadata": {
            "needs_background": "light"
          },
          "output_type": "display_data"
        }
      ],
      "source": [
        "# Classes: Setosa, Versicolor, Virginica\n",
        "# Feature: sepal length\n",
        "\n",
        "cdx = np.array([0,1,2])             \n",
        "fdx = np.array([0])           \n",
        "\n",
        "for i in range(4):\n",
        "    buildAndFit(cdx, fdx, len(cdx), len(fdx), i, True)"
      ]
    },
    {
      "cell_type": "code",
      "execution_count": null,
      "metadata": {
        "colab": {
          "base_uri": "https://localhost:8080/"
        },
        "id": "rbO0oQl6wOaG",
        "outputId": "38bdd421-be4d-4ab9-cc22-3f49428bf41a"
      },
      "outputs": [
        {
          "name": "stdout",
          "output_type": "stream",
          "text": [
            "\n",
            "Loss Function:  hinge \n",
            "Score:  0.83\n",
            "\n",
            "Loss Function:  perceptron \n",
            "Score:  0.83\n",
            "\n",
            "Loss Function:  log \n",
            "Score:  0.9\n",
            "\n",
            "Loss Function:  modified_huber \n",
            "Score:  0.96\n"
          ]
        }
      ],
      "source": [
        "# Classes: Versicolors, Virginica\n",
        "# Features: sepal length, sepal width, petal length, petal width\n",
        "\n",
        "cdx = np.array([1,2])\n",
        "fdx = np.array([0,1,2,3])\n",
        "\n",
        "for i in range(4):\n",
        "  buildAndFit(cdx, fdx, len(cdx), len(fdx), i)\n",
        "\n"
      ]
    },
    {
      "cell_type": "code",
      "execution_count": null,
      "metadata": {
        "colab": {
          "base_uri": "https://localhost:8080/"
        },
        "id": "7alhaY2lwYpa",
        "outputId": "eddf078b-e8e0-401c-a504-bdf7dfeb7155"
      },
      "outputs": [
        {
          "name": "stdout",
          "output_type": "stream",
          "text": [
            "\n",
            "Loss Function:  hinge \n",
            "Score:  0.75\n",
            "\n",
            "Loss Function:  perceptron \n",
            "Score:  0.85\n",
            "\n",
            "Loss Function:  log \n",
            "Score:  0.96\n",
            "\n",
            "Loss Function:  modified_huber \n",
            "Score:  0.95\n"
          ]
        }
      ],
      "source": [
        "# Classes: Versicolors, Virginica\n",
        "# Features: sepal length, petal length, petal width\n",
        "\n",
        "cdx = np.array([1,2])\n",
        "fdx = np.array([0,2,3])\n",
        "\n",
        "for i in range(4):\n",
        "  buildAndFit(cdx, fdx, len(cdx), len(fdx), i)"
      ]
    },
    {
      "cell_type": "code",
      "execution_count": null,
      "metadata": {
        "colab": {
          "base_uri": "https://localhost:8080/"
        },
        "id": "_oYjPtOvwK5n",
        "outputId": "3e7856df-5dfd-4c4f-f01b-7b7c22ae4ed4"
      },
      "outputs": [
        {
          "name": "stdout",
          "output_type": "stream",
          "text": [
            "\n",
            "Loss Function:  hinge \n",
            "Score:  0.91\n",
            "\n",
            "Loss Function:  perceptron \n",
            "Score:  0.95\n",
            "\n",
            "Loss Function:  log \n",
            "Score:  0.81\n",
            "\n",
            "Loss Function:  modified_huber \n",
            "Score:  0.93\n"
          ]
        }
      ],
      "source": [
        "# Classes: Versicolors, Virginica\n",
        "# Features: sepal length, sepal width, petal width\n",
        "\n",
        "cdx = np.array([1,2])\n",
        "fdx = np.array([0,1,3])\n",
        "\n",
        "for i in range(4):\n",
        "  buildAndFit(cdx, fdx, len(cdx), len(fdx), i)"
      ]
    },
    {
      "cell_type": "markdown",
      "metadata": {
        "id": "_mXiMyEcYTBf"
      },
      "source": [
        "In the four cells above, I am testing out different loss functions for different dataset-model pairs using the buildAndFit function"
      ]
    },
    {
      "cell_type": "code",
      "execution_count": null,
      "metadata": {
        "id": "XI86dv6fYTBf"
      },
      "outputs": [],
      "source": [
        ""
      ]
    }
  ],
  "metadata": {
    "anaconda-cloud": {},
    "colab": {
      "collapsed_sections": [],
      "name": "Perls_Viviana_AS02.ipynb",
      "provenance": []
    },
    "kernelspec": {
      "display_name": "Python 3 (ipykernel)",
      "language": "python",
      "name": "python3"
    },
    "language_info": {
      "codemirror_mode": {
        "name": "ipython",
        "version": 3
      },
      "file_extension": ".py",
      "mimetype": "text/x-python",
      "name": "python",
      "nbconvert_exporter": "python",
      "pygments_lexer": "ipython3",
      "version": "3.9.7"
    }
  },
  "nbformat": 4,
  "nbformat_minor": 0
}