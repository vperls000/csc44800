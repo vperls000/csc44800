{
  "nbformat": 4,
  "nbformat_minor": 0,
  "metadata": {
    "colab": {
      "name": "Viviana_Perls_Assignment3.ipynb",
      "provenance": [],
      "authorship_tag": "ABX9TyMgN14zAHRKygPL1rzlz2Vx",
      "include_colab_link": true
    },
    "kernelspec": {
      "name": "python3",
      "display_name": "Python 3"
    },
    "language_info": {
      "name": "python"
    }
  },
  "cells": [
    {
      "cell_type": "markdown",
      "metadata": {
        "id": "view-in-github",
        "colab_type": "text"
      },
      "source": [
        "<a href=\"https://colab.research.google.com/github/vperls000/csc44800/blob/main/Viviana_Perls_Assignment3.ipynb\" target=\"_parent\"><img src=\"https://colab.research.google.com/assets/colab-badge.svg\" alt=\"Open In Colab\"/></a>"
      ]
    },
    {
      "cell_type": "code",
      "execution_count": null,
      "metadata": {
        "id": "-nNkw0PmEHTM"
      },
      "outputs": [],
      "source": [
        ""
      ]
    },
    {
      "cell_type": "markdown",
      "source": [
        "[![Open In Colab](https://colab.research.google.com/assets/colab-badge.svg)](https://colab.research.google.com/github/vperls000/csc44800/blob/main/Viviana_Perls_Assignment3.ipynb#scrollTo=G9qSxtyxEWMO)"
      ],
      "metadata": {
        "id": "G9qSxtyxEWMO"
      }
    }
  ]
}